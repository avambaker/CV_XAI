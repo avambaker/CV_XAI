{
  "nbformat": 4,
  "nbformat_minor": 0,
  "metadata": {
    "colab": {
      "provenance": [],
      "include_colab_link": true
    },
    "kernelspec": {
      "name": "python3",
      "display_name": "Python 3"
    },
    "language_info": {
      "name": "python"
    },
    "gpuClass": "standard"
  },
  "cells": [
    {
      "cell_type": "markdown",
      "metadata": {
        "id": "view-in-github",
        "colab_type": "text"
      },
      "source": [
        "<a href=\"https://colab.research.google.com/github/avambaker/CV_XAI/blob/master/STATS201-PS1-AvaBakerI.ipynb\" target=\"_parent\"><img src=\"https://colab.research.google.com/assets/colab-badge.svg\" alt=\"Open In Colab\"/></a>"
      ]
    },
    {
      "cell_type": "markdown",
      "source": [
        "**References**: https://github.com/blockchain-etl/ethereum-etl"
      ],
      "metadata": {
        "id": "IqCqGO0YkHLs"
      }
    },
    {
      "cell_type": "markdown",
      "source": [
        "# Problem Set 1 Checklist"
      ],
      "metadata": {
        "id": "Vl-nqGvZXRoI"
      }
    },
    {
      "cell_type": "markdown",
      "source": [
        "**Please customize the following inputs to generate your own results for discussion**\n",
        "\n",
        " \n",
        "* Infura/Alchemy/QuickNode API endpoints: experiment with multiple node operators and see if you could get the same data\n",
        "\n",
        "* Data radius, start, and end blocks: pick a smaller radius for testing before you scale\n",
        "\n",
        "* Token address: Pick your choice of token in querying the token transfer part\n",
        "\n",
        "**Please post the sharing (Allow viewing or commenting only) URL for your Google Colab after you are done below.**\n",
        "\n",
        "Important: Change your private API token key to \"API_KEY\" before posting \n",
        "\n"
      ],
      "metadata": {
        "id": "SmLvLbvYWjWo"
      }
    },
    {
      "cell_type": "markdown",
      "source": [
        "## Question 1 (5 points)\n",
        "Did you get the same data querying via different node operators? Please point to at least one specific observation to validate your answer. \n",
        "\n",
        "Please insert Figures/Tables to better represent your idea. \n"
      ],
      "metadata": {
        "id": "zxhdu_J7Xekr"
      }
    },
    {
      "cell_type": "markdown",
      "source": [],
      "metadata": {
        "id": "v44d9VFZ4khf"
      }
    },
    {
      "cell_type": "markdown",
      "source": [
        "## Question 2 (5 points)"
      ],
      "metadata": {
        "id": "ixEd6bqWXsPH"
      }
    },
    {
      "cell_type": "markdown",
      "source": [
        "Please introduce the ERC20 token that you queried in 100 words:\n",
        "\n",
        "\n",
        "*   when the token first was issued?\n",
        "*   what functions do the token support?\n",
        "*   what is the current market value of the token?\n",
        "*   Find an academic paper or industry report about the token and summary in the 6 facets of background/motivation, research question, application scenario, methodology, results, intellectual merits/practical impacts. \n",
        "\n",
        "Please provide references that could back-up your answer. \n",
        "Please insert Figures/Tables to better represent your idea. \n"
      ],
      "metadata": {
        "id": "5jsaPw8eXutE"
      }
    },
    {
      "cell_type": "markdown",
      "source": [],
      "metadata": {
        "id": "C8xJ7awTVgs_"
      }
    },
    {
      "cell_type": "markdown",
      "source": [
        "### Question 3: (5 points)\n",
        "\n",
        "Please introduce the ERC721 token that you queried in 100 words:\n",
        "\n",
        "\n",
        "*   when the token first was issued?\n",
        "*   what functions do the token support?\n",
        "*  what is the current market value of the token? \n",
        "*   Find an academic paper or industry report about the token and summary in the 6 facets of background/motivation, research question, application scenario, methodology, results, intellectual merits/practical impacts. \n",
        "\n",
        "Please provide references that could back-up your answer. \n",
        "Please insert Figures/Tables to better represent your idea. \n",
        "\n",
        "\n",
        "\n"
      ],
      "metadata": {
        "id": "ajNmZWwRYP6L"
      }
    },
    {
      "cell_type": "markdown",
      "source": [],
      "metadata": {
        "id": "0HzOTTmVVhI9"
      }
    },
    {
      "cell_type": "markdown",
      "source": [
        "# Part I: Install Required Dependancies "
      ],
      "metadata": {
        "id": "Bl3_PJmXkXdp"
      }
    },
    {
      "cell_type": "code",
      "execution_count": null,
      "metadata": {
        "id": "5LmO9IFQpoWI"
      },
      "outputs": [],
      "source": [
        "# install ethereum-etl and pandas\n",
        "!python -m pip install ethereum-etl pandas"
      ]
    },
    {
      "cell_type": "markdown",
      "source": [
        "# Part II: Mount Google Drive for Result Exports"
      ],
      "metadata": {
        "id": "UvNPm9lqkdF3"
      }
    },
    {
      "cell_type": "code",
      "source": [
        "# mount google drive\n",
        "from google.colab import drive\n",
        "\n",
        "drive.mount('/content/drive')"
      ],
      "metadata": {
        "colab": {
          "base_uri": "https://localhost:8080/"
        },
        "id": "wES4OHqFmZjM",
        "outputId": "9dce3295-1bfa-4674-a790-04ee718582d9"
      },
      "execution_count": 2,
      "outputs": [
        {
          "output_type": "stream",
          "name": "stdout",
          "text": [
            "Mounted at /content/drive\n"
          ]
        }
      ]
    },
    {
      "cell_type": "code",
      "source": [
        "# print the current directory\n",
        "!pwd"
      ],
      "metadata": {
        "colab": {
          "base_uri": "https://localhost:8080/"
        },
        "id": "bEplGVTImhrq",
        "outputId": "eb7042f7-e922-47a5-d04a-c7b4f00137d2"
      },
      "execution_count": 3,
      "outputs": [
        {
          "output_type": "stream",
          "name": "stdout",
          "text": [
            "/content\n"
          ]
        }
      ]
    },
    {
      "cell_type": "code",
      "source": [
        "#@title path\n",
        "#create a project folder and identify the path\n",
        "path = \"/content/drive/MyDrive/EthereumETL\" #@param {type:\"string\"}\n"
      ],
      "metadata": {
        "id": "8-AIBrM6LV3M"
      },
      "execution_count": 4,
      "outputs": []
    },
    {
      "cell_type": "code",
      "source": [
        "#go to your project folder \n",
        "%cd /content/drive/MyDrive/EthereumETL"
      ],
      "metadata": {
        "colab": {
          "base_uri": "https://localhost:8080/"
        },
        "id": "5v3R2TJrK_7j",
        "outputId": "c0ff5eb4-df0f-40bf-cd69-47fc6cfce289"
      },
      "execution_count": 5,
      "outputs": [
        {
          "output_type": "stream",
          "name": "stdout",
          "text": [
            "/content/drive/MyDrive/EthereumETL\n"
          ]
        }
      ]
    },
    {
      "cell_type": "code",
      "source": [
        "# print the current directory again to make sure that you are in the project folder\n",
        "!pwd"
      ],
      "metadata": {
        "colab": {
          "base_uri": "https://localhost:8080/"
        },
        "id": "DU9bZePInDS_",
        "outputId": "bc597da1-1b75-413e-a415-e1494d298116"
      },
      "execution_count": 6,
      "outputs": [
        {
          "output_type": "stream",
          "name": "stdout",
          "text": [
            "/content/drive/MyDrive/EthereumETL\n"
          ]
        }
      ]
    },
    {
      "cell_type": "markdown",
      "source": [
        "# Part III: Query Data and Export CSV"
      ],
      "metadata": {
        "id": "qCQquwO1ki7a"
      }
    },
    {
      "cell_type": "markdown",
      "source": [
        "## 0.Register Accounts on Remote Nodes Service and Get the URLs of the Nodes"
      ],
      "metadata": {
        "id": "LamdAbrKnTkp"
      }
    },
    {
      "cell_type": "markdown",
      "source": [
        "### Remote node option 1: Infura"
      ],
      "metadata": {
        "id": "nBgQNm-Ynh5_"
      }
    },
    {
      "cell_type": "markdown",
      "source": [
        "!!! Important Notes: Please replace https://mainnet.infura.io/v3/API_KEY with your own endpoints for all the codes below"
      ],
      "metadata": {
        "id": "qWXbxoc8fsEf"
      }
    },
    {
      "cell_type": "code",
      "source": [
        "#@title Import using the Infura node\n",
        "infura_end_points_URL = \"https://celo-mainnet.infura.io/v3/8f76a72b0ca548538a1fb31ba64c385c\" #@param {type:\"string\"}\n"
      ],
      "metadata": {
        "id": "wC-wZEJfJl54"
      },
      "execution_count": 7,
      "outputs": []
    },
    {
      "cell_type": "markdown",
      "source": [
        "### Remote node option 2: Alchemy "
      ],
      "metadata": {
        "id": "aNTmGZ9gni1e"
      }
    },
    {
      "cell_type": "code",
      "source": [
        "#@title import using Alchemy\n",
        "alchemy_end_points_URL = \"https://eth-mainnet.g.alchemy.com/v2/hpLIoWzFBF5KGLCUjvtz_ITH5Wf4EcW5\" #@param {type:\"string\"}\n"
      ],
      "metadata": {
        "id": "qTp6jjlhElxk"
      },
      "execution_count": 8,
      "outputs": []
    },
    {
      "cell_type": "markdown",
      "source": [
        "### Remote node option 3: QuickNode"
      ],
      "metadata": {
        "id": "D7uUbkw4nvVD"
      }
    },
    {
      "cell_type": "code",
      "source": [
        "#@title import using QuickNode\n",
        "QuickNode_end_points_URL = \"https://spring-black-pallet.discover.quiknode.pro/742e77d81fe88c1df24573b4d52b05337eeef21a/\" #@param {type:\"string\"}\n"
      ],
      "metadata": {
        "id": "rU4b8vrDHkwy"
      },
      "execution_count": 9,
      "outputs": []
    },
    {
      "cell_type": "markdown",
      "source": [
        "\n",
        "\n",
        "Data Range: We are going to query the block and transaction data for the ethereum blockchain before and after the merge (block number: 15537393 on September 15)\n",
        "\n",
        "Reference; \n",
        "https://www.investopedia.com/ethereum-completes-the-merge-6666337\n",
        "\n"
      ],
      "metadata": {
        "id": "mrjySstRMEXY"
      }
    },
    {
      "cell_type": "code",
      "source": [
        "#@title the merge\n",
        "merge = 15537393 #@param {type:\"number\"}"
      ],
      "metadata": {
        "id": "DTR4hXEgMjRP",
        "cellView": "form"
      },
      "execution_count": 10,
      "outputs": []
    },
    {
      "cell_type": "code",
      "source": [
        "#@title data radius\n",
        "radius = 5 #@param {type:\"number\"}\n"
      ],
      "metadata": {
        "id": "xGCy87YhMt_t"
      },
      "execution_count": 11,
      "outputs": []
    },
    {
      "cell_type": "code",
      "source": [
        "### find the start and the end\n",
        "start = merge-radius\n",
        "end = merge+radius\n",
        "print(start, end)"
      ],
      "metadata": {
        "colab": {
          "base_uri": "https://localhost:8080/"
        },
        "id": "zLqCHkmtNAKO",
        "outputId": "ee1b19ba-ff4f-406b-844b-5fa7902bc3fc"
      },
      "execution_count": 12,
      "outputs": [
        {
          "output_type": "stream",
          "name": "stdout",
          "text": [
            "15537388 15537398\n"
          ]
        }
      ]
    },
    {
      "cell_type": "markdown",
      "source": [
        "## 1. Query Block Data"
      ],
      "metadata": {
        "id": "hcTI-TQNkqYH"
      }
    },
    {
      "cell_type": "markdown",
      "source": [
        "### using the infura endpoint"
      ],
      "metadata": {
        "id": "C1pPtiKwGbvz"
      }
    },
    {
      "cell_type": "code",
      "source": [
        "!ethereumetl export_blocks_and_transactions --start-block 15537388 --end-block 15537398 --blocks-output blocks.csv --provider-uri https://celo-mainnet.infura.io/v3/8f76a72b0ca548538a1fb31ba64c385c"
      ],
      "metadata": {
        "id": "8qbuem1rNYe5",
        "colab": {
          "base_uri": "https://localhost:8080/"
        },
        "outputId": "fbbd3d78-8fb9-4cf1-d213-61c72ca9e1f9"
      },
      "execution_count": 13,
      "outputs": [
        {
          "output_type": "stream",
          "name": "stdout",
          "text": [
            "2023-02-04 19:24:39,620 - ProgressLogger [INFO] - Started work. Items to process: 11.\n",
            "2023-02-04 19:24:39,962 - ProgressLogger [INFO] - 11 items processed. Progress is 100%.\n",
            "2023-02-04 19:24:39,972 - ProgressLogger [INFO] - Finished work. Total items processed: 11. Took 0:00:00.351985.\n",
            "2023-02-04 19:24:39,974 - CompositeItemExporter [INFO] - block items exported: 11\n",
            "2023-02-04 19:24:39,974 - CompositeItemExporter [INFO] - transaction items exported: 0\n",
            "\u001b[0m"
          ]
        }
      ]
    },
    {
      "cell_type": "code",
      "source": [
        "# import libraries to print data frame\n",
        "import pandas as pd"
      ],
      "metadata": {
        "id": "03hqO11tN8AN"
      },
      "execution_count": 14,
      "outputs": []
    },
    {
      "cell_type": "code",
      "source": [
        "# set to print the maximum numbers of rows\n",
        "pd.set_option('display.max_rows', None)"
      ],
      "metadata": {
        "id": "C6CQUMZJOTJa"
      },
      "execution_count": 15,
      "outputs": []
    },
    {
      "cell_type": "code",
      "source": [
        "df_blocks = pd.read_csv('./blocks.csv')\n",
        "display(df_blocks.head(10))"
      ],
      "metadata": {
        "colab": {
          "base_uri": "https://localhost:8080/",
          "height": 427
        },
        "id": "vMyGxx-6N_Df",
        "outputId": "069d69f4-bd36-4402-c776-ed795046c3bd"
      },
      "execution_count": 16,
      "outputs": [
        {
          "output_type": "display_data",
          "data": {
            "text/plain": [
              "     number                                               hash  \\\n",
              "0  15537388  0xe8e4f394a954cfede784f4f32d7862cd232cc284754d...   \n",
              "1  15537389  0xc6e16b63bd55a82cd0b8263d42fd299e372bc68229dd...   \n",
              "2  15537390  0x77737ac3f5fa744772228c763e4c9ea3aca27153092d...   \n",
              "3  15537391  0xadc726aa2e39dbc03518f476a54d7f67ceb55a7f5726...   \n",
              "4  15537392  0xe8ace3e02c91bb505c660560f7e28e15ce528a799a44...   \n",
              "5  15537393  0x64197351678c9ff565252977cf2bec0783a76cc25edb...   \n",
              "6  15537394  0xf6887a43dd1c5be5cd8a9f63c64a29a4ae1c1789dfd1...   \n",
              "7  15537395  0x3eaf038c8dff1fdc8d48a65d66f38c820edc2a692c45...   \n",
              "8  15537396  0x9d98de6228c04dcf55db0013ef96be693e424ec59f6c...   \n",
              "9  15537397  0x65e00b48ffdd5c2ef0dd4d6ca998c5ecd6fec99e5ece...   \n",
              "\n",
              "                                         parent_hash  nonce  sha3_uncles  \\\n",
              "0  0x0edf3253795681bbcb322016c11cf6b2b04a80a391fe...    NaN          NaN   \n",
              "1  0xe8e4f394a954cfede784f4f32d7862cd232cc284754d...    NaN          NaN   \n",
              "2  0xc6e16b63bd55a82cd0b8263d42fd299e372bc68229dd...    NaN          NaN   \n",
              "3  0x77737ac3f5fa744772228c763e4c9ea3aca27153092d...    NaN          NaN   \n",
              "4  0xadc726aa2e39dbc03518f476a54d7f67ceb55a7f5726...    NaN          NaN   \n",
              "5  0xe8ace3e02c91bb505c660560f7e28e15ce528a799a44...    NaN          NaN   \n",
              "6  0x64197351678c9ff565252977cf2bec0783a76cc25edb...    NaN          NaN   \n",
              "7  0xf6887a43dd1c5be5cd8a9f63c64a29a4ae1c1789dfd1...    NaN          NaN   \n",
              "8  0x3eaf038c8dff1fdc8d48a65d66f38c820edc2a692c45...    NaN          NaN   \n",
              "9  0x9d98de6228c04dcf55db0013ef96be693e424ec59f6c...    NaN          NaN   \n",
              "\n",
              "                                          logs_bloom  \\\n",
              "0  0x02200000004200000000000080800000008000000000...   \n",
              "1  0x02a00000004200000004200080804000008000000000...   \n",
              "2  0x02200000004200000000000080804000008000000000...   \n",
              "3  0x02200000004200000804000080804000008000008000...   \n",
              "4  0x02000000004200000000000000804000000000000000...   \n",
              "5  0x02200000004200800004000080804000008000000000...   \n",
              "6  0x02000000004200000000000000804000000000000000...   \n",
              "7  0x02800000004200000000200000804000000020000000...   \n",
              "8  0x02000000004200000000000000804000000000000000...   \n",
              "9  0x02200000004200000004000080804000008000000000...   \n",
              "\n",
              "                                   transactions_root  \\\n",
              "0  0xceea082358324d086add99532d0f06a5497da927efee...   \n",
              "1  0x1420b0b19c27b568f10e148fa61a2f13699d0f2e85e0...   \n",
              "2  0xf7856e2a9455d04b73b03650b05919db1af37e0516cf...   \n",
              "3  0xb87bb72c080944eba2941603185c9409909e9e08bf7d...   \n",
              "4  0x836a63cf53a8a22d192f8e7433cb0941686dd9982f9c...   \n",
              "5  0xad2014aaa66c596ccd5398b74d3b07e01442edb2e736...   \n",
              "6  0xedb74af08c414851b28ebf3af808693ab27a542d1002...   \n",
              "7  0xcb15b2f7fda1f07ba497fd04777a20075d407ed5eee9...   \n",
              "8  0x0a2aac78bf1f0c5ef6aff0c5c0eca47358629e288728...   \n",
              "9  0x4351361154ec823d48870643bdad3051ceffaca986ba...   \n",
              "\n",
              "                                          state_root  \\\n",
              "0  0x6bff66ae63628d8a59b3bd7dba539a974b2858cf5472...   \n",
              "1  0x9295fff6c84d0c4306b96b66d9da34e6dd1ead0fd8d8...   \n",
              "2  0x2a3107f1b82b220ee765a04825602c79624a324b47da...   \n",
              "3  0x41452a51ac651ae8415df92456211985a6bcbaf16eef...   \n",
              "4  0x0ecb36943d4f3209ca251ff48f611ca2263e0e0b0fc7...   \n",
              "5  0x74adbcceec5f2e22fee80657a7fc3dd8c736f1af4501...   \n",
              "6  0x643874361e0ea04cf7ca7255a837c51265c233cd4958...   \n",
              "7  0xb0e17fec319c63c922d421884490de4fc8b6fd9e3de8...   \n",
              "8  0xd38fdcae14fee9968ee0bb326080ba0d52ef64f25479...   \n",
              "9  0x66dd7ccd5a44c6572a460ede17d0866a5b5a7402c5e4...   \n",
              "\n",
              "                                       receipts_root  \\\n",
              "0  0x1d7c6b14e916a3231a57843001384a3dd466631d2507...   \n",
              "1  0x5ab1c60b4a03ad5002a7a12b354722f957d6b26fd1ff...   \n",
              "2  0xb7245a2bec3c8cf4d83a8718a6cbc1a2dca7d3822dec...   \n",
              "3  0xf9b8e6711f8d96b61ede980f558ce0287fad7a435746...   \n",
              "4  0xd63a03c91213ca3aebf447c6adcfa3311e7b657a3b53...   \n",
              "5  0xcc238e97b1670cec404a30c8e5ec2be49445d814c7c8...   \n",
              "6  0xbe4b48945850be853f9aef9dce4b44eca65719d63c7c...   \n",
              "7  0xaf8ecade6d53501bf3bccb8c0aa0f4765c7f5250faf8...   \n",
              "8  0xa5fb4cefcd04560222be9aaa4580b51d238c736e8d01...   \n",
              "9  0xb0e942b3a1f5dbf774a28d51b7448767948ec0ee4fa8...   \n",
              "\n",
              "                                        miner  difficulty  total_difficulty  \\\n",
              "0  0xc6f916ad6e360651bb95f8e67c1c28805745d084         NaN          15537389   \n",
              "1  0xe267d978037b89db06c6a5fcf82fad8297e290ff         NaN          15537390   \n",
              "2  0xedc5a546f39447e5f7da8af961ab313d3e47bfe7         NaN          15537391   \n",
              "3  0x2a1bff2452aca1ca5ffabbd34b2744109d11e4f5         NaN          15537392   \n",
              "4  0x1a503375a2878de7feee2698c7513abde71b8b2e         NaN          15537393   \n",
              "5  0x63b4b616c5345e3dcc9e21db69297e2129447f4e         NaN          15537394   \n",
              "6  0xa870d462f8d93d745a025dc0230d1a7793f73bf5         NaN          15537395   \n",
              "7  0xdff75a3b93fd9ead6922ca5269c2db0a104d3d05         NaN          15537396   \n",
              "8  0x2ad6d354e3ab2a196b64964a788534fdf7932e2b         NaN          15537397   \n",
              "9  0xc449fe37fa135e67eb8cfe3f6e4f1aca0b672655         NaN          15537398   \n",
              "\n",
              "    size                                         extra_data  gas_limit  \\\n",
              "0   6498  0xd983010508846765746889676f312e31362e3135856c...   20000000   \n",
              "1   9896  0xd983010508846765746889676f312e31362e3135856c...   20000000   \n",
              "2  13407  0xd983010508846765746889676f312e31362e3135856c...   20000000   \n",
              "3  19918  0xd983010508846765746889676f312e31362e3135856c...   20000000   \n",
              "4  13216  0xd883010508846765746888676f312e31382e32856c69...   20000000   \n",
              "5  10652  0xd983010508846765746889676f312e31362e3135856c...   20000000   \n",
              "6   8121  0xd983010600846765746889676f312e31372e3133856c...   20000000   \n",
              "7  11071  0xd983010600846765746889676f312e31372e3133856c...   20000000   \n",
              "8   7689  0xd983010508846765746889676f312e31362e3135856c...   20000000   \n",
              "9  15616  0xd983010508846765746889676f312e31362e3135856c...   20000000   \n",
              "\n",
              "   gas_used   timestamp  transaction_count  base_fee_per_gas  \n",
              "0   2102584  1665354929                 10         100000000  \n",
              "1   4443381  1665354934                 17         100000000  \n",
              "2   4765976  1665354939                 20         100000000  \n",
              "3   5896899  1665354944                 29         100000000  \n",
              "4   4341797  1665354949                 20         100000000  \n",
              "5   4447725  1665354954                 17         100000000  \n",
              "6   3219622  1665354959                 15         100000000  \n",
              "7   4922242  1665354964                 20         100000000  \n",
              "8   3107140  1665354969                 12         100000000  \n",
              "9   5540772  1665354974                 25         100000000  "
            ],
            "text/html": [
              "\n",
              "  <div id=\"df-d319077a-aa54-4a87-8dc1-01bde1f30fbd\">\n",
              "    <div class=\"colab-df-container\">\n",
              "      <div>\n",
              "<style scoped>\n",
              "    .dataframe tbody tr th:only-of-type {\n",
              "        vertical-align: middle;\n",
              "    }\n",
              "\n",
              "    .dataframe tbody tr th {\n",
              "        vertical-align: top;\n",
              "    }\n",
              "\n",
              "    .dataframe thead th {\n",
              "        text-align: right;\n",
              "    }\n",
              "</style>\n",
              "<table border=\"1\" class=\"dataframe\">\n",
              "  <thead>\n",
              "    <tr style=\"text-align: right;\">\n",
              "      <th></th>\n",
              "      <th>number</th>\n",
              "      <th>hash</th>\n",
              "      <th>parent_hash</th>\n",
              "      <th>nonce</th>\n",
              "      <th>sha3_uncles</th>\n",
              "      <th>logs_bloom</th>\n",
              "      <th>transactions_root</th>\n",
              "      <th>state_root</th>\n",
              "      <th>receipts_root</th>\n",
              "      <th>miner</th>\n",
              "      <th>difficulty</th>\n",
              "      <th>total_difficulty</th>\n",
              "      <th>size</th>\n",
              "      <th>extra_data</th>\n",
              "      <th>gas_limit</th>\n",
              "      <th>gas_used</th>\n",
              "      <th>timestamp</th>\n",
              "      <th>transaction_count</th>\n",
              "      <th>base_fee_per_gas</th>\n",
              "    </tr>\n",
              "  </thead>\n",
              "  <tbody>\n",
              "    <tr>\n",
              "      <th>0</th>\n",
              "      <td>15537388</td>\n",
              "      <td>0xe8e4f394a954cfede784f4f32d7862cd232cc284754d...</td>\n",
              "      <td>0x0edf3253795681bbcb322016c11cf6b2b04a80a391fe...</td>\n",
              "      <td>NaN</td>\n",
              "      <td>NaN</td>\n",
              "      <td>0x02200000004200000000000080800000008000000000...</td>\n",
              "      <td>0xceea082358324d086add99532d0f06a5497da927efee...</td>\n",
              "      <td>0x6bff66ae63628d8a59b3bd7dba539a974b2858cf5472...</td>\n",
              "      <td>0x1d7c6b14e916a3231a57843001384a3dd466631d2507...</td>\n",
              "      <td>0xc6f916ad6e360651bb95f8e67c1c28805745d084</td>\n",
              "      <td>NaN</td>\n",
              "      <td>15537389</td>\n",
              "      <td>6498</td>\n",
              "      <td>0xd983010508846765746889676f312e31362e3135856c...</td>\n",
              "      <td>20000000</td>\n",
              "      <td>2102584</td>\n",
              "      <td>1665354929</td>\n",
              "      <td>10</td>\n",
              "      <td>100000000</td>\n",
              "    </tr>\n",
              "    <tr>\n",
              "      <th>1</th>\n",
              "      <td>15537389</td>\n",
              "      <td>0xc6e16b63bd55a82cd0b8263d42fd299e372bc68229dd...</td>\n",
              "      <td>0xe8e4f394a954cfede784f4f32d7862cd232cc284754d...</td>\n",
              "      <td>NaN</td>\n",
              "      <td>NaN</td>\n",
              "      <td>0x02a00000004200000004200080804000008000000000...</td>\n",
              "      <td>0x1420b0b19c27b568f10e148fa61a2f13699d0f2e85e0...</td>\n",
              "      <td>0x9295fff6c84d0c4306b96b66d9da34e6dd1ead0fd8d8...</td>\n",
              "      <td>0x5ab1c60b4a03ad5002a7a12b354722f957d6b26fd1ff...</td>\n",
              "      <td>0xe267d978037b89db06c6a5fcf82fad8297e290ff</td>\n",
              "      <td>NaN</td>\n",
              "      <td>15537390</td>\n",
              "      <td>9896</td>\n",
              "      <td>0xd983010508846765746889676f312e31362e3135856c...</td>\n",
              "      <td>20000000</td>\n",
              "      <td>4443381</td>\n",
              "      <td>1665354934</td>\n",
              "      <td>17</td>\n",
              "      <td>100000000</td>\n",
              "    </tr>\n",
              "    <tr>\n",
              "      <th>2</th>\n",
              "      <td>15537390</td>\n",
              "      <td>0x77737ac3f5fa744772228c763e4c9ea3aca27153092d...</td>\n",
              "      <td>0xc6e16b63bd55a82cd0b8263d42fd299e372bc68229dd...</td>\n",
              "      <td>NaN</td>\n",
              "      <td>NaN</td>\n",
              "      <td>0x02200000004200000000000080804000008000000000...</td>\n",
              "      <td>0xf7856e2a9455d04b73b03650b05919db1af37e0516cf...</td>\n",
              "      <td>0x2a3107f1b82b220ee765a04825602c79624a324b47da...</td>\n",
              "      <td>0xb7245a2bec3c8cf4d83a8718a6cbc1a2dca7d3822dec...</td>\n",
              "      <td>0xedc5a546f39447e5f7da8af961ab313d3e47bfe7</td>\n",
              "      <td>NaN</td>\n",
              "      <td>15537391</td>\n",
              "      <td>13407</td>\n",
              "      <td>0xd983010508846765746889676f312e31362e3135856c...</td>\n",
              "      <td>20000000</td>\n",
              "      <td>4765976</td>\n",
              "      <td>1665354939</td>\n",
              "      <td>20</td>\n",
              "      <td>100000000</td>\n",
              "    </tr>\n",
              "    <tr>\n",
              "      <th>3</th>\n",
              "      <td>15537391</td>\n",
              "      <td>0xadc726aa2e39dbc03518f476a54d7f67ceb55a7f5726...</td>\n",
              "      <td>0x77737ac3f5fa744772228c763e4c9ea3aca27153092d...</td>\n",
              "      <td>NaN</td>\n",
              "      <td>NaN</td>\n",
              "      <td>0x02200000004200000804000080804000008000008000...</td>\n",
              "      <td>0xb87bb72c080944eba2941603185c9409909e9e08bf7d...</td>\n",
              "      <td>0x41452a51ac651ae8415df92456211985a6bcbaf16eef...</td>\n",
              "      <td>0xf9b8e6711f8d96b61ede980f558ce0287fad7a435746...</td>\n",
              "      <td>0x2a1bff2452aca1ca5ffabbd34b2744109d11e4f5</td>\n",
              "      <td>NaN</td>\n",
              "      <td>15537392</td>\n",
              "      <td>19918</td>\n",
              "      <td>0xd983010508846765746889676f312e31362e3135856c...</td>\n",
              "      <td>20000000</td>\n",
              "      <td>5896899</td>\n",
              "      <td>1665354944</td>\n",
              "      <td>29</td>\n",
              "      <td>100000000</td>\n",
              "    </tr>\n",
              "    <tr>\n",
              "      <th>4</th>\n",
              "      <td>15537392</td>\n",
              "      <td>0xe8ace3e02c91bb505c660560f7e28e15ce528a799a44...</td>\n",
              "      <td>0xadc726aa2e39dbc03518f476a54d7f67ceb55a7f5726...</td>\n",
              "      <td>NaN</td>\n",
              "      <td>NaN</td>\n",
              "      <td>0x02000000004200000000000000804000000000000000...</td>\n",
              "      <td>0x836a63cf53a8a22d192f8e7433cb0941686dd9982f9c...</td>\n",
              "      <td>0x0ecb36943d4f3209ca251ff48f611ca2263e0e0b0fc7...</td>\n",
              "      <td>0xd63a03c91213ca3aebf447c6adcfa3311e7b657a3b53...</td>\n",
              "      <td>0x1a503375a2878de7feee2698c7513abde71b8b2e</td>\n",
              "      <td>NaN</td>\n",
              "      <td>15537393</td>\n",
              "      <td>13216</td>\n",
              "      <td>0xd883010508846765746888676f312e31382e32856c69...</td>\n",
              "      <td>20000000</td>\n",
              "      <td>4341797</td>\n",
              "      <td>1665354949</td>\n",
              "      <td>20</td>\n",
              "      <td>100000000</td>\n",
              "    </tr>\n",
              "    <tr>\n",
              "      <th>5</th>\n",
              "      <td>15537393</td>\n",
              "      <td>0x64197351678c9ff565252977cf2bec0783a76cc25edb...</td>\n",
              "      <td>0xe8ace3e02c91bb505c660560f7e28e15ce528a799a44...</td>\n",
              "      <td>NaN</td>\n",
              "      <td>NaN</td>\n",
              "      <td>0x02200000004200800004000080804000008000000000...</td>\n",
              "      <td>0xad2014aaa66c596ccd5398b74d3b07e01442edb2e736...</td>\n",
              "      <td>0x74adbcceec5f2e22fee80657a7fc3dd8c736f1af4501...</td>\n",
              "      <td>0xcc238e97b1670cec404a30c8e5ec2be49445d814c7c8...</td>\n",
              "      <td>0x63b4b616c5345e3dcc9e21db69297e2129447f4e</td>\n",
              "      <td>NaN</td>\n",
              "      <td>15537394</td>\n",
              "      <td>10652</td>\n",
              "      <td>0xd983010508846765746889676f312e31362e3135856c...</td>\n",
              "      <td>20000000</td>\n",
              "      <td>4447725</td>\n",
              "      <td>1665354954</td>\n",
              "      <td>17</td>\n",
              "      <td>100000000</td>\n",
              "    </tr>\n",
              "    <tr>\n",
              "      <th>6</th>\n",
              "      <td>15537394</td>\n",
              "      <td>0xf6887a43dd1c5be5cd8a9f63c64a29a4ae1c1789dfd1...</td>\n",
              "      <td>0x64197351678c9ff565252977cf2bec0783a76cc25edb...</td>\n",
              "      <td>NaN</td>\n",
              "      <td>NaN</td>\n",
              "      <td>0x02000000004200000000000000804000000000000000...</td>\n",
              "      <td>0xedb74af08c414851b28ebf3af808693ab27a542d1002...</td>\n",
              "      <td>0x643874361e0ea04cf7ca7255a837c51265c233cd4958...</td>\n",
              "      <td>0xbe4b48945850be853f9aef9dce4b44eca65719d63c7c...</td>\n",
              "      <td>0xa870d462f8d93d745a025dc0230d1a7793f73bf5</td>\n",
              "      <td>NaN</td>\n",
              "      <td>15537395</td>\n",
              "      <td>8121</td>\n",
              "      <td>0xd983010600846765746889676f312e31372e3133856c...</td>\n",
              "      <td>20000000</td>\n",
              "      <td>3219622</td>\n",
              "      <td>1665354959</td>\n",
              "      <td>15</td>\n",
              "      <td>100000000</td>\n",
              "    </tr>\n",
              "    <tr>\n",
              "      <th>7</th>\n",
              "      <td>15537395</td>\n",
              "      <td>0x3eaf038c8dff1fdc8d48a65d66f38c820edc2a692c45...</td>\n",
              "      <td>0xf6887a43dd1c5be5cd8a9f63c64a29a4ae1c1789dfd1...</td>\n",
              "      <td>NaN</td>\n",
              "      <td>NaN</td>\n",
              "      <td>0x02800000004200000000200000804000000020000000...</td>\n",
              "      <td>0xcb15b2f7fda1f07ba497fd04777a20075d407ed5eee9...</td>\n",
              "      <td>0xb0e17fec319c63c922d421884490de4fc8b6fd9e3de8...</td>\n",
              "      <td>0xaf8ecade6d53501bf3bccb8c0aa0f4765c7f5250faf8...</td>\n",
              "      <td>0xdff75a3b93fd9ead6922ca5269c2db0a104d3d05</td>\n",
              "      <td>NaN</td>\n",
              "      <td>15537396</td>\n",
              "      <td>11071</td>\n",
              "      <td>0xd983010600846765746889676f312e31372e3133856c...</td>\n",
              "      <td>20000000</td>\n",
              "      <td>4922242</td>\n",
              "      <td>1665354964</td>\n",
              "      <td>20</td>\n",
              "      <td>100000000</td>\n",
              "    </tr>\n",
              "    <tr>\n",
              "      <th>8</th>\n",
              "      <td>15537396</td>\n",
              "      <td>0x9d98de6228c04dcf55db0013ef96be693e424ec59f6c...</td>\n",
              "      <td>0x3eaf038c8dff1fdc8d48a65d66f38c820edc2a692c45...</td>\n",
              "      <td>NaN</td>\n",
              "      <td>NaN</td>\n",
              "      <td>0x02000000004200000000000000804000000000000000...</td>\n",
              "      <td>0x0a2aac78bf1f0c5ef6aff0c5c0eca47358629e288728...</td>\n",
              "      <td>0xd38fdcae14fee9968ee0bb326080ba0d52ef64f25479...</td>\n",
              "      <td>0xa5fb4cefcd04560222be9aaa4580b51d238c736e8d01...</td>\n",
              "      <td>0x2ad6d354e3ab2a196b64964a788534fdf7932e2b</td>\n",
              "      <td>NaN</td>\n",
              "      <td>15537397</td>\n",
              "      <td>7689</td>\n",
              "      <td>0xd983010508846765746889676f312e31362e3135856c...</td>\n",
              "      <td>20000000</td>\n",
              "      <td>3107140</td>\n",
              "      <td>1665354969</td>\n",
              "      <td>12</td>\n",
              "      <td>100000000</td>\n",
              "    </tr>\n",
              "    <tr>\n",
              "      <th>9</th>\n",
              "      <td>15537397</td>\n",
              "      <td>0x65e00b48ffdd5c2ef0dd4d6ca998c5ecd6fec99e5ece...</td>\n",
              "      <td>0x9d98de6228c04dcf55db0013ef96be693e424ec59f6c...</td>\n",
              "      <td>NaN</td>\n",
              "      <td>NaN</td>\n",
              "      <td>0x02200000004200000004000080804000008000000000...</td>\n",
              "      <td>0x4351361154ec823d48870643bdad3051ceffaca986ba...</td>\n",
              "      <td>0x66dd7ccd5a44c6572a460ede17d0866a5b5a7402c5e4...</td>\n",
              "      <td>0xb0e942b3a1f5dbf774a28d51b7448767948ec0ee4fa8...</td>\n",
              "      <td>0xc449fe37fa135e67eb8cfe3f6e4f1aca0b672655</td>\n",
              "      <td>NaN</td>\n",
              "      <td>15537398</td>\n",
              "      <td>15616</td>\n",
              "      <td>0xd983010508846765746889676f312e31362e3135856c...</td>\n",
              "      <td>20000000</td>\n",
              "      <td>5540772</td>\n",
              "      <td>1665354974</td>\n",
              "      <td>25</td>\n",
              "      <td>100000000</td>\n",
              "    </tr>\n",
              "  </tbody>\n",
              "</table>\n",
              "</div>\n",
              "      <button class=\"colab-df-convert\" onclick=\"convertToInteractive('df-d319077a-aa54-4a87-8dc1-01bde1f30fbd')\"\n",
              "              title=\"Convert this dataframe to an interactive table.\"\n",
              "              style=\"display:none;\">\n",
              "        \n",
              "  <svg xmlns=\"http://www.w3.org/2000/svg\" height=\"24px\"viewBox=\"0 0 24 24\"\n",
              "       width=\"24px\">\n",
              "    <path d=\"M0 0h24v24H0V0z\" fill=\"none\"/>\n",
              "    <path d=\"M18.56 5.44l.94 2.06.94-2.06 2.06-.94-2.06-.94-.94-2.06-.94 2.06-2.06.94zm-11 1L8.5 8.5l.94-2.06 2.06-.94-2.06-.94L8.5 2.5l-.94 2.06-2.06.94zm10 10l.94 2.06.94-2.06 2.06-.94-2.06-.94-.94-2.06-.94 2.06-2.06.94z\"/><path d=\"M17.41 7.96l-1.37-1.37c-.4-.4-.92-.59-1.43-.59-.52 0-1.04.2-1.43.59L10.3 9.45l-7.72 7.72c-.78.78-.78 2.05 0 2.83L4 21.41c.39.39.9.59 1.41.59.51 0 1.02-.2 1.41-.59l7.78-7.78 2.81-2.81c.8-.78.8-2.07 0-2.86zM5.41 20L4 18.59l7.72-7.72 1.47 1.35L5.41 20z\"/>\n",
              "  </svg>\n",
              "      </button>\n",
              "      \n",
              "  <style>\n",
              "    .colab-df-container {\n",
              "      display:flex;\n",
              "      flex-wrap:wrap;\n",
              "      gap: 12px;\n",
              "    }\n",
              "\n",
              "    .colab-df-convert {\n",
              "      background-color: #E8F0FE;\n",
              "      border: none;\n",
              "      border-radius: 50%;\n",
              "      cursor: pointer;\n",
              "      display: none;\n",
              "      fill: #1967D2;\n",
              "      height: 32px;\n",
              "      padding: 0 0 0 0;\n",
              "      width: 32px;\n",
              "    }\n",
              "\n",
              "    .colab-df-convert:hover {\n",
              "      background-color: #E2EBFA;\n",
              "      box-shadow: 0px 1px 2px rgba(60, 64, 67, 0.3), 0px 1px 3px 1px rgba(60, 64, 67, 0.15);\n",
              "      fill: #174EA6;\n",
              "    }\n",
              "\n",
              "    [theme=dark] .colab-df-convert {\n",
              "      background-color: #3B4455;\n",
              "      fill: #D2E3FC;\n",
              "    }\n",
              "\n",
              "    [theme=dark] .colab-df-convert:hover {\n",
              "      background-color: #434B5C;\n",
              "      box-shadow: 0px 1px 3px 1px rgba(0, 0, 0, 0.15);\n",
              "      filter: drop-shadow(0px 1px 2px rgba(0, 0, 0, 0.3));\n",
              "      fill: #FFFFFF;\n",
              "    }\n",
              "  </style>\n",
              "\n",
              "      <script>\n",
              "        const buttonEl =\n",
              "          document.querySelector('#df-d319077a-aa54-4a87-8dc1-01bde1f30fbd button.colab-df-convert');\n",
              "        buttonEl.style.display =\n",
              "          google.colab.kernel.accessAllowed ? 'block' : 'none';\n",
              "\n",
              "        async function convertToInteractive(key) {\n",
              "          const element = document.querySelector('#df-d319077a-aa54-4a87-8dc1-01bde1f30fbd');\n",
              "          const dataTable =\n",
              "            await google.colab.kernel.invokeFunction('convertToInteractive',\n",
              "                                                     [key], {});\n",
              "          if (!dataTable) return;\n",
              "\n",
              "          const docLinkHtml = 'Like what you see? Visit the ' +\n",
              "            '<a target=\"_blank\" href=https://colab.research.google.com/notebooks/data_table.ipynb>data table notebook</a>'\n",
              "            + ' to learn more about interactive tables.';\n",
              "          element.innerHTML = '';\n",
              "          dataTable['output_type'] = 'display_data';\n",
              "          await google.colab.output.renderOutput(dataTable, element);\n",
              "          const docLink = document.createElement('div');\n",
              "          docLink.innerHTML = docLinkHtml;\n",
              "          element.appendChild(docLink);\n",
              "        }\n",
              "      </script>\n",
              "    </div>\n",
              "  </div>\n",
              "  "
            ]
          },
          "metadata": {}
        }
      ]
    },
    {
      "cell_type": "markdown",
      "source": [
        "### query blockchain data using the alchemy endpoint\n"
      ],
      "metadata": {
        "id": "JGNBCBCOGfmh"
      }
    },
    {
      "cell_type": "code",
      "source": [
        "!ethereumetl export_blocks_and_transactions --start-block 15537388 --end-block 15537398 --blocks-output blocks_alchemy.csv --provider-uri https://eth-mainnet.g.alchemy.com/v2/hpLIoWzFBF5KGLCUjvtz_ITH5Wf4EcW5\n"
      ],
      "metadata": {
        "colab": {
          "base_uri": "https://localhost:8080/"
        },
        "id": "0w_2uAjZGkRO",
        "outputId": "35639c28-89d0-4bfc-b379-557beff809e8"
      },
      "execution_count": 17,
      "outputs": [
        {
          "output_type": "stream",
          "name": "stdout",
          "text": [
            "2023-02-04 19:24:43,169 - ProgressLogger [INFO] - Started work. Items to process: 11.\n",
            "2023-02-04 19:24:43,676 - ProgressLogger [INFO] - 11 items processed. Progress is 100%.\n",
            "2023-02-04 19:24:43,677 - ProgressLogger [INFO] - Finished work. Total items processed: 11. Took 0:00:00.507472.\n",
            "2023-02-04 19:24:43,679 - CompositeItemExporter [INFO] - block items exported: 11\n",
            "2023-02-04 19:24:43,680 - CompositeItemExporter [INFO] - transaction items exported: 0\n",
            "\u001b[0m"
          ]
        }
      ]
    },
    {
      "cell_type": "code",
      "source": [
        "df_blocks_alchemy = pd.read_csv('./blocks_alchemy.csv')\n",
        "display(df_blocks_alchemy.head(10))"
      ],
      "metadata": {
        "colab": {
          "base_uri": "https://localhost:8080/",
          "height": 427
        },
        "id": "kF4EB-GhGyiA",
        "outputId": "355e6a30-8d2b-4807-f4b2-819e341b8450"
      },
      "execution_count": 18,
      "outputs": [
        {
          "output_type": "display_data",
          "data": {
            "text/plain": [
              "     number                                               hash  \\\n",
              "0  15537388  0x34f2900754317c14b2479f9a0342b0f4e16bd4681a5f...   \n",
              "1  15537389  0xc81d887fda0e021a4c54e68f9b6a78d3b70deb18b8af...   \n",
              "2  15537390  0xd5b9efdd3659f5b635e0505d787d6b6cc3af4c660def...   \n",
              "3  15537391  0x2f1dc309c7cc0a5a2e3b3dd9315fea0ffbc53c56f923...   \n",
              "4  15537392  0x2b3ea3cd4befcab070812443affb08bf17a91ce382c7...   \n",
              "5  15537393  0x55b11b918355b1ef9c5db810302ebad0bf2544255b53...   \n",
              "6  15537394  0x56a9bb0302da44b8c0b3df540781424684c3af04d0b7...   \n",
              "7  15537395  0xe37e1a183a3d1c7234d090bfb7196081635919c26f2e...   \n",
              "8  15537396  0x98c735877f2f30bad54fc46ba8bcd93a54da32a60b29...   \n",
              "9  15537397  0x9797d65f12465ada68cdacf7e6b7c22fe43a4d096711...   \n",
              "\n",
              "                                         parent_hash               nonce  \\\n",
              "0  0x5a2504b5e378f28d8f1fc52bac609eca4f3d79f444c5...  0x9206e9a5cae2058c   \n",
              "1  0x34f2900754317c14b2479f9a0342b0f4e16bd4681a5f...  0xebba2908368ba3fb   \n",
              "2  0xc81d887fda0e021a4c54e68f9b6a78d3b70deb18b8af...  0x1f07464e8175235f   \n",
              "3  0xd5b9efdd3659f5b635e0505d787d6b6cc3af4c660def...  0xac2c3800025a764f   \n",
              "4  0x2f1dc309c7cc0a5a2e3b3dd9315fea0ffbc53c56f923...  0x232b0043952c93d9   \n",
              "5  0x2b3ea3cd4befcab070812443affb08bf17a91ce382c7...  0x62a3ee77461d4fc9   \n",
              "6  0x55b11b918355b1ef9c5db810302ebad0bf2544255b53...  0x0000000000000000   \n",
              "7  0x56a9bb0302da44b8c0b3df540781424684c3af04d0b7...  0x0000000000000000   \n",
              "8  0xe37e1a183a3d1c7234d090bfb7196081635919c26f2e...  0x0000000000000000   \n",
              "9  0x98c735877f2f30bad54fc46ba8bcd93a54da32a60b29...  0x0000000000000000   \n",
              "\n",
              "                                         sha3_uncles  \\\n",
              "0  0x1dcc4de8dec75d7aab85b567b6ccd41ad312451b948a...   \n",
              "1  0x1dcc4de8dec75d7aab85b567b6ccd41ad312451b948a...   \n",
              "2  0x1dcc4de8dec75d7aab85b567b6ccd41ad312451b948a...   \n",
              "3  0x1dcc4de8dec75d7aab85b567b6ccd41ad312451b948a...   \n",
              "4  0x1dcc4de8dec75d7aab85b567b6ccd41ad312451b948a...   \n",
              "5  0x1dcc4de8dec75d7aab85b567b6ccd41ad312451b948a...   \n",
              "6  0x1dcc4de8dec75d7aab85b567b6ccd41ad312451b948a...   \n",
              "7  0x1dcc4de8dec75d7aab85b567b6ccd41ad312451b948a...   \n",
              "8  0x1dcc4de8dec75d7aab85b567b6ccd41ad312451b948a...   \n",
              "9  0x1dcc4de8dec75d7aab85b567b6ccd41ad312451b948a...   \n",
              "\n",
              "                                          logs_bloom  \\\n",
              "0  0x502e0487a11080051205989994081820ca2800204251...   \n",
              "1  0x5620abc2a149744b80aa62dda3b974586111019d6104...   \n",
              "2  0x10004008011000010810002c00c00040104204008440...   \n",
              "3  0x53a240c0610070015299420086041090205a11062100...   \n",
              "4  0xffffffffffffffffffffffffffffffffffffffffffff...   \n",
              "5  0x00000400000000000000000000000000000000000000...   \n",
              "6  0xffffffffffffffffffffffffffffffffffffffffffff...   \n",
              "7  0xffffffffffffffffffffffffffffffffffffffffffff...   \n",
              "8  0x95248824802c120a80100904f00200b8aa1806824c80...   \n",
              "9  0x10000905a11025401e40204209111c0d8401a63a2002...   \n",
              "\n",
              "                                   transactions_root  \\\n",
              "0  0xfb0a569d9a40d1c3ade913ca4eeac661550a6161fd4e...   \n",
              "1  0x094b940cd0e1f500e15294d602ce5afcb178d08bbf10...   \n",
              "2  0xe16b12997e99393fab92f787e8fceb9880f226e62ed4...   \n",
              "3  0xd976f002afbac9fdf1b028336719b602b9f4660ca103...   \n",
              "4  0x82864b3a65d1ac1917c426d48915dca0fc966fbf3f30...   \n",
              "5  0xdd5eec02b019ff76e359b09bfa19395a2a0e97bc01e7...   \n",
              "6  0x1ea1746468686159ce730c1cc49a886721244e5d1fa9...   \n",
              "7  0x5c56184fbce74e9c98d2a51aa2110963396047d84e8c...   \n",
              "8  0xf103ec8f4895f63748a3f8d182af659736d1fc593d71...   \n",
              "9  0x165a029503ae62a153a3b9589a09db72646749266b2b...   \n",
              "\n",
              "                                          state_root  \\\n",
              "0  0x98efdb8d69e7596b660ba0fea82d36f28864e0f95478...   \n",
              "1  0xbf7fcb19e96cb3f211717553f58327f8e168403749e6...   \n",
              "2  0xde56e0e536fab72545f5c2e54be0fcbdf644cd551eee...   \n",
              "3  0xb8d426f8c8b6ae1c34f6bebf904971be1611c29e8889...   \n",
              "4  0xfee48a40a2765ab31fcd06ab6956341d13dc2c4b9762...   \n",
              "5  0x4919dafa6ac8becfbbd0c2808f6c9511a057c21e4283...   \n",
              "6  0x40c07091e16263270f3579385090fea02dd5f061ba67...   \n",
              "7  0x2ca38a39c5517f658d107c19550334a9820a7393d148...   \n",
              "8  0xe6b8248ff047d9f34ecd82bcc1af2f45e08cd9157168...   \n",
              "9  0x2c1728ed8e5d59c813fae703638b359fd13f0c58270f...   \n",
              "\n",
              "                                       receipts_root  \\\n",
              "0  0xaeba43330764722ccfa8b0c76f2c76fb54023a3804ac...   \n",
              "1  0x3b7c1fba752ca54fba30f885ee25db1ecbafdc82956a...   \n",
              "2  0x9befb155572b619e15a0af9f0cc56148903d4ef28534...   \n",
              "3  0x6b4d994610806d8a5ed107996abc477688d4d0748763...   \n",
              "4  0x13c10513b52358022f800e2f9f1c50328798427b1b4a...   \n",
              "5  0xbaa842cfd552321a9c2450576126311e071680a12580...   \n",
              "6  0x928073fb98ce316265ea35d95ab7e2e1206cecd85242...   \n",
              "7  0x1707e457973ce280debe93f5d478663d97ad192beea1...   \n",
              "8  0xf39845a5eabaa2848ff4c6bec8b1ede03ac5e6aa475e...   \n",
              "9  0x20cebf97b0024253e3e959ed681c5c659d44a13e94ee...   \n",
              "\n",
              "                                        miner         difficulty  \\\n",
              "0  0xea674fdde714fd979de3edf0f56aa9716b898ec8  11031474385146923   \n",
              "1  0xea674fdde714fd979de3edf0f56aa9716b898ec8  11032024140960811   \n",
              "2  0x829bd824b016326a401d083b33d092293333a830  11037960627312277   \n",
              "3  0x829bd824b016326a401d083b33d092293333a830  11043900012338719   \n",
              "4  0xea674fdde714fd979de3edf0f56aa9716b898ec8  11049842297455506   \n",
              "5  0x829bd824b016326a401d083b33d092293333a830  11055787484078698   \n",
              "6  0xeee27662c2b8eba3cd936a23f039f3189633e4c8                  0   \n",
              "7  0x0b3b161b8abeb6b04cb95c3e6047f80c120a0292                  0   \n",
              "8  0x388c818ca8b9251b393131c08a736a67ccb19297                  0   \n",
              "9  0xe688b84b23f322a994a53dbf8e15fa82cdb71127                  0   \n",
              "\n",
              "          total_difficulty   size                              extra_data  \\\n",
              "0  58749948497083790670458  19789          0x6575726f70652d77657374332d38   \n",
              "1  58749959529107931631269  36493            0x617369612d65617374322d3131   \n",
              "2  58749970567068558943546   7807  0xe4b883e5bda9e7a59ee4bb99e9b1bc472121   \n",
              "3  58749981610968571282265  47274  0xe4b883e5bda9e7a59ee4bb99e9b1bc4b2e22   \n",
              "4  58749992660810868737771  16568        0x617369612d65617374322d31763932   \n",
              "5  58750003716598352816469   1636  0xe4b883e5bda9e7a59ee4bb99e9b1bc460021   \n",
              "6  58750003716598352816469  18559                                      0x   \n",
              "7  58750003716598352816469  36978                                      0x   \n",
              "8  58750003716598352816469  40259                                      0x   \n",
              "9  58750003716598352816469  43784                                      0x   \n",
              "\n",
              "   gas_limit  gas_used   timestamp  transaction_count  base_fee_per_gas  \n",
              "0   30000000  15109407  1663224133                114       37190466833  \n",
              "1   30029295  26226335  1663224142                175       37224374311  \n",
              "2   30000000   6893891  1663224150                 46       40698882159  \n",
              "3   30000000  16969164  1663224155                105       37949635702  \n",
              "4   30000000  29990952  1663224156                 61       38572377838  \n",
              "5   30000000  29991429  1663224162                  1       43391016710  \n",
              "6   30000000  29983006  1663224179                 80       48811794595  \n",
              "7   30000000  29982083  1663224191                 29       54906356355  \n",
              "8   30000000  29980461  1663224203                170       61761452922  \n",
              "9   30000000  29997984  1663224215                148       69471578228  "
            ],
            "text/html": [
              "\n",
              "  <div id=\"df-1820812a-b54c-4035-953d-2717765667f3\">\n",
              "    <div class=\"colab-df-container\">\n",
              "      <div>\n",
              "<style scoped>\n",
              "    .dataframe tbody tr th:only-of-type {\n",
              "        vertical-align: middle;\n",
              "    }\n",
              "\n",
              "    .dataframe tbody tr th {\n",
              "        vertical-align: top;\n",
              "    }\n",
              "\n",
              "    .dataframe thead th {\n",
              "        text-align: right;\n",
              "    }\n",
              "</style>\n",
              "<table border=\"1\" class=\"dataframe\">\n",
              "  <thead>\n",
              "    <tr style=\"text-align: right;\">\n",
              "      <th></th>\n",
              "      <th>number</th>\n",
              "      <th>hash</th>\n",
              "      <th>parent_hash</th>\n",
              "      <th>nonce</th>\n",
              "      <th>sha3_uncles</th>\n",
              "      <th>logs_bloom</th>\n",
              "      <th>transactions_root</th>\n",
              "      <th>state_root</th>\n",
              "      <th>receipts_root</th>\n",
              "      <th>miner</th>\n",
              "      <th>difficulty</th>\n",
              "      <th>total_difficulty</th>\n",
              "      <th>size</th>\n",
              "      <th>extra_data</th>\n",
              "      <th>gas_limit</th>\n",
              "      <th>gas_used</th>\n",
              "      <th>timestamp</th>\n",
              "      <th>transaction_count</th>\n",
              "      <th>base_fee_per_gas</th>\n",
              "    </tr>\n",
              "  </thead>\n",
              "  <tbody>\n",
              "    <tr>\n",
              "      <th>0</th>\n",
              "      <td>15537388</td>\n",
              "      <td>0x34f2900754317c14b2479f9a0342b0f4e16bd4681a5f...</td>\n",
              "      <td>0x5a2504b5e378f28d8f1fc52bac609eca4f3d79f444c5...</td>\n",
              "      <td>0x9206e9a5cae2058c</td>\n",
              "      <td>0x1dcc4de8dec75d7aab85b567b6ccd41ad312451b948a...</td>\n",
              "      <td>0x502e0487a11080051205989994081820ca2800204251...</td>\n",
              "      <td>0xfb0a569d9a40d1c3ade913ca4eeac661550a6161fd4e...</td>\n",
              "      <td>0x98efdb8d69e7596b660ba0fea82d36f28864e0f95478...</td>\n",
              "      <td>0xaeba43330764722ccfa8b0c76f2c76fb54023a3804ac...</td>\n",
              "      <td>0xea674fdde714fd979de3edf0f56aa9716b898ec8</td>\n",
              "      <td>11031474385146923</td>\n",
              "      <td>58749948497083790670458</td>\n",
              "      <td>19789</td>\n",
              "      <td>0x6575726f70652d77657374332d38</td>\n",
              "      <td>30000000</td>\n",
              "      <td>15109407</td>\n",
              "      <td>1663224133</td>\n",
              "      <td>114</td>\n",
              "      <td>37190466833</td>\n",
              "    </tr>\n",
              "    <tr>\n",
              "      <th>1</th>\n",
              "      <td>15537389</td>\n",
              "      <td>0xc81d887fda0e021a4c54e68f9b6a78d3b70deb18b8af...</td>\n",
              "      <td>0x34f2900754317c14b2479f9a0342b0f4e16bd4681a5f...</td>\n",
              "      <td>0xebba2908368ba3fb</td>\n",
              "      <td>0x1dcc4de8dec75d7aab85b567b6ccd41ad312451b948a...</td>\n",
              "      <td>0x5620abc2a149744b80aa62dda3b974586111019d6104...</td>\n",
              "      <td>0x094b940cd0e1f500e15294d602ce5afcb178d08bbf10...</td>\n",
              "      <td>0xbf7fcb19e96cb3f211717553f58327f8e168403749e6...</td>\n",
              "      <td>0x3b7c1fba752ca54fba30f885ee25db1ecbafdc82956a...</td>\n",
              "      <td>0xea674fdde714fd979de3edf0f56aa9716b898ec8</td>\n",
              "      <td>11032024140960811</td>\n",
              "      <td>58749959529107931631269</td>\n",
              "      <td>36493</td>\n",
              "      <td>0x617369612d65617374322d3131</td>\n",
              "      <td>30029295</td>\n",
              "      <td>26226335</td>\n",
              "      <td>1663224142</td>\n",
              "      <td>175</td>\n",
              "      <td>37224374311</td>\n",
              "    </tr>\n",
              "    <tr>\n",
              "      <th>2</th>\n",
              "      <td>15537390</td>\n",
              "      <td>0xd5b9efdd3659f5b635e0505d787d6b6cc3af4c660def...</td>\n",
              "      <td>0xc81d887fda0e021a4c54e68f9b6a78d3b70deb18b8af...</td>\n",
              "      <td>0x1f07464e8175235f</td>\n",
              "      <td>0x1dcc4de8dec75d7aab85b567b6ccd41ad312451b948a...</td>\n",
              "      <td>0x10004008011000010810002c00c00040104204008440...</td>\n",
              "      <td>0xe16b12997e99393fab92f787e8fceb9880f226e62ed4...</td>\n",
              "      <td>0xde56e0e536fab72545f5c2e54be0fcbdf644cd551eee...</td>\n",
              "      <td>0x9befb155572b619e15a0af9f0cc56148903d4ef28534...</td>\n",
              "      <td>0x829bd824b016326a401d083b33d092293333a830</td>\n",
              "      <td>11037960627312277</td>\n",
              "      <td>58749970567068558943546</td>\n",
              "      <td>7807</td>\n",
              "      <td>0xe4b883e5bda9e7a59ee4bb99e9b1bc472121</td>\n",
              "      <td>30000000</td>\n",
              "      <td>6893891</td>\n",
              "      <td>1663224150</td>\n",
              "      <td>46</td>\n",
              "      <td>40698882159</td>\n",
              "    </tr>\n",
              "    <tr>\n",
              "      <th>3</th>\n",
              "      <td>15537391</td>\n",
              "      <td>0x2f1dc309c7cc0a5a2e3b3dd9315fea0ffbc53c56f923...</td>\n",
              "      <td>0xd5b9efdd3659f5b635e0505d787d6b6cc3af4c660def...</td>\n",
              "      <td>0xac2c3800025a764f</td>\n",
              "      <td>0x1dcc4de8dec75d7aab85b567b6ccd41ad312451b948a...</td>\n",
              "      <td>0x53a240c0610070015299420086041090205a11062100...</td>\n",
              "      <td>0xd976f002afbac9fdf1b028336719b602b9f4660ca103...</td>\n",
              "      <td>0xb8d426f8c8b6ae1c34f6bebf904971be1611c29e8889...</td>\n",
              "      <td>0x6b4d994610806d8a5ed107996abc477688d4d0748763...</td>\n",
              "      <td>0x829bd824b016326a401d083b33d092293333a830</td>\n",
              "      <td>11043900012338719</td>\n",
              "      <td>58749981610968571282265</td>\n",
              "      <td>47274</td>\n",
              "      <td>0xe4b883e5bda9e7a59ee4bb99e9b1bc4b2e22</td>\n",
              "      <td>30000000</td>\n",
              "      <td>16969164</td>\n",
              "      <td>1663224155</td>\n",
              "      <td>105</td>\n",
              "      <td>37949635702</td>\n",
              "    </tr>\n",
              "    <tr>\n",
              "      <th>4</th>\n",
              "      <td>15537392</td>\n",
              "      <td>0x2b3ea3cd4befcab070812443affb08bf17a91ce382c7...</td>\n",
              "      <td>0x2f1dc309c7cc0a5a2e3b3dd9315fea0ffbc53c56f923...</td>\n",
              "      <td>0x232b0043952c93d9</td>\n",
              "      <td>0x1dcc4de8dec75d7aab85b567b6ccd41ad312451b948a...</td>\n",
              "      <td>0xffffffffffffffffffffffffffffffffffffffffffff...</td>\n",
              "      <td>0x82864b3a65d1ac1917c426d48915dca0fc966fbf3f30...</td>\n",
              "      <td>0xfee48a40a2765ab31fcd06ab6956341d13dc2c4b9762...</td>\n",
              "      <td>0x13c10513b52358022f800e2f9f1c50328798427b1b4a...</td>\n",
              "      <td>0xea674fdde714fd979de3edf0f56aa9716b898ec8</td>\n",
              "      <td>11049842297455506</td>\n",
              "      <td>58749992660810868737771</td>\n",
              "      <td>16568</td>\n",
              "      <td>0x617369612d65617374322d31763932</td>\n",
              "      <td>30000000</td>\n",
              "      <td>29990952</td>\n",
              "      <td>1663224156</td>\n",
              "      <td>61</td>\n",
              "      <td>38572377838</td>\n",
              "    </tr>\n",
              "    <tr>\n",
              "      <th>5</th>\n",
              "      <td>15537393</td>\n",
              "      <td>0x55b11b918355b1ef9c5db810302ebad0bf2544255b53...</td>\n",
              "      <td>0x2b3ea3cd4befcab070812443affb08bf17a91ce382c7...</td>\n",
              "      <td>0x62a3ee77461d4fc9</td>\n",
              "      <td>0x1dcc4de8dec75d7aab85b567b6ccd41ad312451b948a...</td>\n",
              "      <td>0x00000400000000000000000000000000000000000000...</td>\n",
              "      <td>0xdd5eec02b019ff76e359b09bfa19395a2a0e97bc01e7...</td>\n",
              "      <td>0x4919dafa6ac8becfbbd0c2808f6c9511a057c21e4283...</td>\n",
              "      <td>0xbaa842cfd552321a9c2450576126311e071680a12580...</td>\n",
              "      <td>0x829bd824b016326a401d083b33d092293333a830</td>\n",
              "      <td>11055787484078698</td>\n",
              "      <td>58750003716598352816469</td>\n",
              "      <td>1636</td>\n",
              "      <td>0xe4b883e5bda9e7a59ee4bb99e9b1bc460021</td>\n",
              "      <td>30000000</td>\n",
              "      <td>29991429</td>\n",
              "      <td>1663224162</td>\n",
              "      <td>1</td>\n",
              "      <td>43391016710</td>\n",
              "    </tr>\n",
              "    <tr>\n",
              "      <th>6</th>\n",
              "      <td>15537394</td>\n",
              "      <td>0x56a9bb0302da44b8c0b3df540781424684c3af04d0b7...</td>\n",
              "      <td>0x55b11b918355b1ef9c5db810302ebad0bf2544255b53...</td>\n",
              "      <td>0x0000000000000000</td>\n",
              "      <td>0x1dcc4de8dec75d7aab85b567b6ccd41ad312451b948a...</td>\n",
              "      <td>0xffffffffffffffffffffffffffffffffffffffffffff...</td>\n",
              "      <td>0x1ea1746468686159ce730c1cc49a886721244e5d1fa9...</td>\n",
              "      <td>0x40c07091e16263270f3579385090fea02dd5f061ba67...</td>\n",
              "      <td>0x928073fb98ce316265ea35d95ab7e2e1206cecd85242...</td>\n",
              "      <td>0xeee27662c2b8eba3cd936a23f039f3189633e4c8</td>\n",
              "      <td>0</td>\n",
              "      <td>58750003716598352816469</td>\n",
              "      <td>18559</td>\n",
              "      <td>0x</td>\n",
              "      <td>30000000</td>\n",
              "      <td>29983006</td>\n",
              "      <td>1663224179</td>\n",
              "      <td>80</td>\n",
              "      <td>48811794595</td>\n",
              "    </tr>\n",
              "    <tr>\n",
              "      <th>7</th>\n",
              "      <td>15537395</td>\n",
              "      <td>0xe37e1a183a3d1c7234d090bfb7196081635919c26f2e...</td>\n",
              "      <td>0x56a9bb0302da44b8c0b3df540781424684c3af04d0b7...</td>\n",
              "      <td>0x0000000000000000</td>\n",
              "      <td>0x1dcc4de8dec75d7aab85b567b6ccd41ad312451b948a...</td>\n",
              "      <td>0xffffffffffffffffffffffffffffffffffffffffffff...</td>\n",
              "      <td>0x5c56184fbce74e9c98d2a51aa2110963396047d84e8c...</td>\n",
              "      <td>0x2ca38a39c5517f658d107c19550334a9820a7393d148...</td>\n",
              "      <td>0x1707e457973ce280debe93f5d478663d97ad192beea1...</td>\n",
              "      <td>0x0b3b161b8abeb6b04cb95c3e6047f80c120a0292</td>\n",
              "      <td>0</td>\n",
              "      <td>58750003716598352816469</td>\n",
              "      <td>36978</td>\n",
              "      <td>0x</td>\n",
              "      <td>30000000</td>\n",
              "      <td>29982083</td>\n",
              "      <td>1663224191</td>\n",
              "      <td>29</td>\n",
              "      <td>54906356355</td>\n",
              "    </tr>\n",
              "    <tr>\n",
              "      <th>8</th>\n",
              "      <td>15537396</td>\n",
              "      <td>0x98c735877f2f30bad54fc46ba8bcd93a54da32a60b29...</td>\n",
              "      <td>0xe37e1a183a3d1c7234d090bfb7196081635919c26f2e...</td>\n",
              "      <td>0x0000000000000000</td>\n",
              "      <td>0x1dcc4de8dec75d7aab85b567b6ccd41ad312451b948a...</td>\n",
              "      <td>0x95248824802c120a80100904f00200b8aa1806824c80...</td>\n",
              "      <td>0xf103ec8f4895f63748a3f8d182af659736d1fc593d71...</td>\n",
              "      <td>0xe6b8248ff047d9f34ecd82bcc1af2f45e08cd9157168...</td>\n",
              "      <td>0xf39845a5eabaa2848ff4c6bec8b1ede03ac5e6aa475e...</td>\n",
              "      <td>0x388c818ca8b9251b393131c08a736a67ccb19297</td>\n",
              "      <td>0</td>\n",
              "      <td>58750003716598352816469</td>\n",
              "      <td>40259</td>\n",
              "      <td>0x</td>\n",
              "      <td>30000000</td>\n",
              "      <td>29980461</td>\n",
              "      <td>1663224203</td>\n",
              "      <td>170</td>\n",
              "      <td>61761452922</td>\n",
              "    </tr>\n",
              "    <tr>\n",
              "      <th>9</th>\n",
              "      <td>15537397</td>\n",
              "      <td>0x9797d65f12465ada68cdacf7e6b7c22fe43a4d096711...</td>\n",
              "      <td>0x98c735877f2f30bad54fc46ba8bcd93a54da32a60b29...</td>\n",
              "      <td>0x0000000000000000</td>\n",
              "      <td>0x1dcc4de8dec75d7aab85b567b6ccd41ad312451b948a...</td>\n",
              "      <td>0x10000905a11025401e40204209111c0d8401a63a2002...</td>\n",
              "      <td>0x165a029503ae62a153a3b9589a09db72646749266b2b...</td>\n",
              "      <td>0x2c1728ed8e5d59c813fae703638b359fd13f0c58270f...</td>\n",
              "      <td>0x20cebf97b0024253e3e959ed681c5c659d44a13e94ee...</td>\n",
              "      <td>0xe688b84b23f322a994a53dbf8e15fa82cdb71127</td>\n",
              "      <td>0</td>\n",
              "      <td>58750003716598352816469</td>\n",
              "      <td>43784</td>\n",
              "      <td>0x</td>\n",
              "      <td>30000000</td>\n",
              "      <td>29997984</td>\n",
              "      <td>1663224215</td>\n",
              "      <td>148</td>\n",
              "      <td>69471578228</td>\n",
              "    </tr>\n",
              "  </tbody>\n",
              "</table>\n",
              "</div>\n",
              "      <button class=\"colab-df-convert\" onclick=\"convertToInteractive('df-1820812a-b54c-4035-953d-2717765667f3')\"\n",
              "              title=\"Convert this dataframe to an interactive table.\"\n",
              "              style=\"display:none;\">\n",
              "        \n",
              "  <svg xmlns=\"http://www.w3.org/2000/svg\" height=\"24px\"viewBox=\"0 0 24 24\"\n",
              "       width=\"24px\">\n",
              "    <path d=\"M0 0h24v24H0V0z\" fill=\"none\"/>\n",
              "    <path d=\"M18.56 5.44l.94 2.06.94-2.06 2.06-.94-2.06-.94-.94-2.06-.94 2.06-2.06.94zm-11 1L8.5 8.5l.94-2.06 2.06-.94-2.06-.94L8.5 2.5l-.94 2.06-2.06.94zm10 10l.94 2.06.94-2.06 2.06-.94-2.06-.94-.94-2.06-.94 2.06-2.06.94z\"/><path d=\"M17.41 7.96l-1.37-1.37c-.4-.4-.92-.59-1.43-.59-.52 0-1.04.2-1.43.59L10.3 9.45l-7.72 7.72c-.78.78-.78 2.05 0 2.83L4 21.41c.39.39.9.59 1.41.59.51 0 1.02-.2 1.41-.59l7.78-7.78 2.81-2.81c.8-.78.8-2.07 0-2.86zM5.41 20L4 18.59l7.72-7.72 1.47 1.35L5.41 20z\"/>\n",
              "  </svg>\n",
              "      </button>\n",
              "      \n",
              "  <style>\n",
              "    .colab-df-container {\n",
              "      display:flex;\n",
              "      flex-wrap:wrap;\n",
              "      gap: 12px;\n",
              "    }\n",
              "\n",
              "    .colab-df-convert {\n",
              "      background-color: #E8F0FE;\n",
              "      border: none;\n",
              "      border-radius: 50%;\n",
              "      cursor: pointer;\n",
              "      display: none;\n",
              "      fill: #1967D2;\n",
              "      height: 32px;\n",
              "      padding: 0 0 0 0;\n",
              "      width: 32px;\n",
              "    }\n",
              "\n",
              "    .colab-df-convert:hover {\n",
              "      background-color: #E2EBFA;\n",
              "      box-shadow: 0px 1px 2px rgba(60, 64, 67, 0.3), 0px 1px 3px 1px rgba(60, 64, 67, 0.15);\n",
              "      fill: #174EA6;\n",
              "    }\n",
              "\n",
              "    [theme=dark] .colab-df-convert {\n",
              "      background-color: #3B4455;\n",
              "      fill: #D2E3FC;\n",
              "    }\n",
              "\n",
              "    [theme=dark] .colab-df-convert:hover {\n",
              "      background-color: #434B5C;\n",
              "      box-shadow: 0px 1px 3px 1px rgba(0, 0, 0, 0.15);\n",
              "      filter: drop-shadow(0px 1px 2px rgba(0, 0, 0, 0.3));\n",
              "      fill: #FFFFFF;\n",
              "    }\n",
              "  </style>\n",
              "\n",
              "      <script>\n",
              "        const buttonEl =\n",
              "          document.querySelector('#df-1820812a-b54c-4035-953d-2717765667f3 button.colab-df-convert');\n",
              "        buttonEl.style.display =\n",
              "          google.colab.kernel.accessAllowed ? 'block' : 'none';\n",
              "\n",
              "        async function convertToInteractive(key) {\n",
              "          const element = document.querySelector('#df-1820812a-b54c-4035-953d-2717765667f3');\n",
              "          const dataTable =\n",
              "            await google.colab.kernel.invokeFunction('convertToInteractive',\n",
              "                                                     [key], {});\n",
              "          if (!dataTable) return;\n",
              "\n",
              "          const docLinkHtml = 'Like what you see? Visit the ' +\n",
              "            '<a target=\"_blank\" href=https://colab.research.google.com/notebooks/data_table.ipynb>data table notebook</a>'\n",
              "            + ' to learn more about interactive tables.';\n",
              "          element.innerHTML = '';\n",
              "          dataTable['output_type'] = 'display_data';\n",
              "          await google.colab.output.renderOutput(dataTable, element);\n",
              "          const docLink = document.createElement('div');\n",
              "          docLink.innerHTML = docLinkHtml;\n",
              "          element.appendChild(docLink);\n",
              "        }\n",
              "      </script>\n",
              "    </div>\n",
              "  </div>\n",
              "  "
            ]
          },
          "metadata": {}
        }
      ]
    },
    {
      "cell_type": "markdown",
      "source": [],
      "metadata": {
        "id": "AjWGW_YNJGsB"
      }
    },
    {
      "cell_type": "markdown",
      "source": [
        "### query the data using the QuickNode endpoint"
      ],
      "metadata": {
        "id": "DhxspGI0HPTX"
      }
    },
    {
      "cell_type": "code",
      "source": [
        "!ethereumetl export_blocks_and_transactions --start-block 15537388 --end-block 15537398 --blocks-output blocks_QuickNode.csv --provider-uri https://spring-black-pallet.discover.quiknode.pro/742e77d81fe88c1df24573b4d52b05337eeef21a/"
      ],
      "metadata": {
        "colab": {
          "base_uri": "https://localhost:8080/"
        },
        "id": "9UYpqpl7H5TW",
        "outputId": "65d69752-b4d4-49d8-abb9-b45af1026fd9"
      },
      "execution_count": 19,
      "outputs": [
        {
          "output_type": "stream",
          "name": "stdout",
          "text": [
            "2023-02-04 19:24:47,051 - ProgressLogger [INFO] - Started work. Items to process: 11.\n",
            "2023-02-04 19:24:47,185 - ProgressLogger [INFO] - 11 items processed. Progress is 100%.\n",
            "2023-02-04 19:24:47,186 - ProgressLogger [INFO] - Finished work. Total items processed: 11. Took 0:00:00.134574.\n",
            "2023-02-04 19:24:47,188 - CompositeItemExporter [INFO] - block items exported: 11\n",
            "2023-02-04 19:24:47,188 - CompositeItemExporter [INFO] - transaction items exported: 0\n",
            "\u001b[0m"
          ]
        }
      ]
    },
    {
      "cell_type": "code",
      "source": [
        "df_blocks_QuickNode = pd.read_csv('./blocks_QuickNode.csv')\n",
        "display(df_blocks_QuickNode.head(10))"
      ],
      "metadata": {
        "colab": {
          "base_uri": "https://localhost:8080/",
          "height": 427
        },
        "id": "Fa-w2NAtIlq5",
        "outputId": "acaf3a46-2af7-4f1c-8fe4-3570d1abb490"
      },
      "execution_count": 20,
      "outputs": [
        {
          "output_type": "display_data",
          "data": {
            "text/plain": [
              "     number                                               hash  \\\n",
              "0  15537388  0x34f2900754317c14b2479f9a0342b0f4e16bd4681a5f...   \n",
              "1  15537389  0xc81d887fda0e021a4c54e68f9b6a78d3b70deb18b8af...   \n",
              "2  15537390  0xd5b9efdd3659f5b635e0505d787d6b6cc3af4c660def...   \n",
              "3  15537391  0x2f1dc309c7cc0a5a2e3b3dd9315fea0ffbc53c56f923...   \n",
              "4  15537392  0x2b3ea3cd4befcab070812443affb08bf17a91ce382c7...   \n",
              "5  15537393  0x55b11b918355b1ef9c5db810302ebad0bf2544255b53...   \n",
              "6  15537394  0x56a9bb0302da44b8c0b3df540781424684c3af04d0b7...   \n",
              "7  15537395  0xe37e1a183a3d1c7234d090bfb7196081635919c26f2e...   \n",
              "8  15537396  0x98c735877f2f30bad54fc46ba8bcd93a54da32a60b29...   \n",
              "9  15537397  0x9797d65f12465ada68cdacf7e6b7c22fe43a4d096711...   \n",
              "\n",
              "                                         parent_hash               nonce  \\\n",
              "0  0x5a2504b5e378f28d8f1fc52bac609eca4f3d79f444c5...  0x9206e9a5cae2058c   \n",
              "1  0x34f2900754317c14b2479f9a0342b0f4e16bd4681a5f...  0xebba2908368ba3fb   \n",
              "2  0xc81d887fda0e021a4c54e68f9b6a78d3b70deb18b8af...  0x1f07464e8175235f   \n",
              "3  0xd5b9efdd3659f5b635e0505d787d6b6cc3af4c660def...  0xac2c3800025a764f   \n",
              "4  0x2f1dc309c7cc0a5a2e3b3dd9315fea0ffbc53c56f923...  0x232b0043952c93d9   \n",
              "5  0x2b3ea3cd4befcab070812443affb08bf17a91ce382c7...  0x62a3ee77461d4fc9   \n",
              "6  0x55b11b918355b1ef9c5db810302ebad0bf2544255b53...  0x0000000000000000   \n",
              "7  0x56a9bb0302da44b8c0b3df540781424684c3af04d0b7...  0x0000000000000000   \n",
              "8  0xe37e1a183a3d1c7234d090bfb7196081635919c26f2e...  0x0000000000000000   \n",
              "9  0x98c735877f2f30bad54fc46ba8bcd93a54da32a60b29...  0x0000000000000000   \n",
              "\n",
              "                                         sha3_uncles  \\\n",
              "0  0x1dcc4de8dec75d7aab85b567b6ccd41ad312451b948a...   \n",
              "1  0x1dcc4de8dec75d7aab85b567b6ccd41ad312451b948a...   \n",
              "2  0x1dcc4de8dec75d7aab85b567b6ccd41ad312451b948a...   \n",
              "3  0x1dcc4de8dec75d7aab85b567b6ccd41ad312451b948a...   \n",
              "4  0x1dcc4de8dec75d7aab85b567b6ccd41ad312451b948a...   \n",
              "5  0x1dcc4de8dec75d7aab85b567b6ccd41ad312451b948a...   \n",
              "6  0x1dcc4de8dec75d7aab85b567b6ccd41ad312451b948a...   \n",
              "7  0x1dcc4de8dec75d7aab85b567b6ccd41ad312451b948a...   \n",
              "8  0x1dcc4de8dec75d7aab85b567b6ccd41ad312451b948a...   \n",
              "9  0x1dcc4de8dec75d7aab85b567b6ccd41ad312451b948a...   \n",
              "\n",
              "                                          logs_bloom  \\\n",
              "0  0x502e0487a11080051205989994081820ca2800204251...   \n",
              "1  0x5620abc2a149744b80aa62dda3b974586111019d6104...   \n",
              "2  0x10004008011000010810002c00c00040104204008440...   \n",
              "3  0x53a240c0610070015299420086041090205a11062100...   \n",
              "4  0xffffffffffffffffffffffffffffffffffffffffffff...   \n",
              "5  0x00000400000000000000000000000000000000000000...   \n",
              "6  0xffffffffffffffffffffffffffffffffffffffffffff...   \n",
              "7  0xffffffffffffffffffffffffffffffffffffffffffff...   \n",
              "8  0x95248824802c120a80100904f00200b8aa1806824c80...   \n",
              "9  0x10000905a11025401e40204209111c0d8401a63a2002...   \n",
              "\n",
              "                                   transactions_root  \\\n",
              "0  0xfb0a569d9a40d1c3ade913ca4eeac661550a6161fd4e...   \n",
              "1  0x094b940cd0e1f500e15294d602ce5afcb178d08bbf10...   \n",
              "2  0xe16b12997e99393fab92f787e8fceb9880f226e62ed4...   \n",
              "3  0xd976f002afbac9fdf1b028336719b602b9f4660ca103...   \n",
              "4  0x82864b3a65d1ac1917c426d48915dca0fc966fbf3f30...   \n",
              "5  0xdd5eec02b019ff76e359b09bfa19395a2a0e97bc01e7...   \n",
              "6  0x1ea1746468686159ce730c1cc49a886721244e5d1fa9...   \n",
              "7  0x5c56184fbce74e9c98d2a51aa2110963396047d84e8c...   \n",
              "8  0xf103ec8f4895f63748a3f8d182af659736d1fc593d71...   \n",
              "9  0x165a029503ae62a153a3b9589a09db72646749266b2b...   \n",
              "\n",
              "                                          state_root  \\\n",
              "0  0x98efdb8d69e7596b660ba0fea82d36f28864e0f95478...   \n",
              "1  0xbf7fcb19e96cb3f211717553f58327f8e168403749e6...   \n",
              "2  0xde56e0e536fab72545f5c2e54be0fcbdf644cd551eee...   \n",
              "3  0xb8d426f8c8b6ae1c34f6bebf904971be1611c29e8889...   \n",
              "4  0xfee48a40a2765ab31fcd06ab6956341d13dc2c4b9762...   \n",
              "5  0x4919dafa6ac8becfbbd0c2808f6c9511a057c21e4283...   \n",
              "6  0x40c07091e16263270f3579385090fea02dd5f061ba67...   \n",
              "7  0x2ca38a39c5517f658d107c19550334a9820a7393d148...   \n",
              "8  0xe6b8248ff047d9f34ecd82bcc1af2f45e08cd9157168...   \n",
              "9  0x2c1728ed8e5d59c813fae703638b359fd13f0c58270f...   \n",
              "\n",
              "                                       receipts_root  \\\n",
              "0  0xaeba43330764722ccfa8b0c76f2c76fb54023a3804ac...   \n",
              "1  0x3b7c1fba752ca54fba30f885ee25db1ecbafdc82956a...   \n",
              "2  0x9befb155572b619e15a0af9f0cc56148903d4ef28534...   \n",
              "3  0x6b4d994610806d8a5ed107996abc477688d4d0748763...   \n",
              "4  0x13c10513b52358022f800e2f9f1c50328798427b1b4a...   \n",
              "5  0xbaa842cfd552321a9c2450576126311e071680a12580...   \n",
              "6  0x928073fb98ce316265ea35d95ab7e2e1206cecd85242...   \n",
              "7  0x1707e457973ce280debe93f5d478663d97ad192beea1...   \n",
              "8  0xf39845a5eabaa2848ff4c6bec8b1ede03ac5e6aa475e...   \n",
              "9  0x20cebf97b0024253e3e959ed681c5c659d44a13e94ee...   \n",
              "\n",
              "                                        miner         difficulty  \\\n",
              "0  0xea674fdde714fd979de3edf0f56aa9716b898ec8  11031474385146923   \n",
              "1  0xea674fdde714fd979de3edf0f56aa9716b898ec8  11032024140960811   \n",
              "2  0x829bd824b016326a401d083b33d092293333a830  11037960627312277   \n",
              "3  0x829bd824b016326a401d083b33d092293333a830  11043900012338719   \n",
              "4  0xea674fdde714fd979de3edf0f56aa9716b898ec8  11049842297455506   \n",
              "5  0x829bd824b016326a401d083b33d092293333a830  11055787484078698   \n",
              "6  0xeee27662c2b8eba3cd936a23f039f3189633e4c8                  0   \n",
              "7  0x0b3b161b8abeb6b04cb95c3e6047f80c120a0292                  0   \n",
              "8  0x388c818ca8b9251b393131c08a736a67ccb19297                  0   \n",
              "9  0xe688b84b23f322a994a53dbf8e15fa82cdb71127                  0   \n",
              "\n",
              "          total_difficulty   size                              extra_data  \\\n",
              "0  58749948497083790670458  19789          0x6575726f70652d77657374332d38   \n",
              "1  58749959529107931631269  36493            0x617369612d65617374322d3131   \n",
              "2  58749970567068558943546   7807  0xe4b883e5bda9e7a59ee4bb99e9b1bc472121   \n",
              "3  58749981610968571282265  47274  0xe4b883e5bda9e7a59ee4bb99e9b1bc4b2e22   \n",
              "4  58749992660810868737771  16568        0x617369612d65617374322d31763932   \n",
              "5  58750003716598352816469   1636  0xe4b883e5bda9e7a59ee4bb99e9b1bc460021   \n",
              "6  58750003716598352816469  18559                                      0x   \n",
              "7  58750003716598352816469  36978                                      0x   \n",
              "8  58750003716598352816469  40259                                      0x   \n",
              "9  58750003716598352816469  43784                                      0x   \n",
              "\n",
              "   gas_limit  gas_used   timestamp  transaction_count  base_fee_per_gas  \n",
              "0   30000000  15109407  1663224133                114       37190466833  \n",
              "1   30029295  26226335  1663224142                175       37224374311  \n",
              "2   30000000   6893891  1663224150                 46       40698882159  \n",
              "3   30000000  16969164  1663224155                105       37949635702  \n",
              "4   30000000  29990952  1663224156                 61       38572377838  \n",
              "5   30000000  29991429  1663224162                  1       43391016710  \n",
              "6   30000000  29983006  1663224179                 80       48811794595  \n",
              "7   30000000  29982083  1663224191                 29       54906356355  \n",
              "8   30000000  29980461  1663224203                170       61761452922  \n",
              "9   30000000  29997984  1663224215                148       69471578228  "
            ],
            "text/html": [
              "\n",
              "  <div id=\"df-d3d390c7-66bf-403a-ae42-3c9c09fa5c6b\">\n",
              "    <div class=\"colab-df-container\">\n",
              "      <div>\n",
              "<style scoped>\n",
              "    .dataframe tbody tr th:only-of-type {\n",
              "        vertical-align: middle;\n",
              "    }\n",
              "\n",
              "    .dataframe tbody tr th {\n",
              "        vertical-align: top;\n",
              "    }\n",
              "\n",
              "    .dataframe thead th {\n",
              "        text-align: right;\n",
              "    }\n",
              "</style>\n",
              "<table border=\"1\" class=\"dataframe\">\n",
              "  <thead>\n",
              "    <tr style=\"text-align: right;\">\n",
              "      <th></th>\n",
              "      <th>number</th>\n",
              "      <th>hash</th>\n",
              "      <th>parent_hash</th>\n",
              "      <th>nonce</th>\n",
              "      <th>sha3_uncles</th>\n",
              "      <th>logs_bloom</th>\n",
              "      <th>transactions_root</th>\n",
              "      <th>state_root</th>\n",
              "      <th>receipts_root</th>\n",
              "      <th>miner</th>\n",
              "      <th>difficulty</th>\n",
              "      <th>total_difficulty</th>\n",
              "      <th>size</th>\n",
              "      <th>extra_data</th>\n",
              "      <th>gas_limit</th>\n",
              "      <th>gas_used</th>\n",
              "      <th>timestamp</th>\n",
              "      <th>transaction_count</th>\n",
              "      <th>base_fee_per_gas</th>\n",
              "    </tr>\n",
              "  </thead>\n",
              "  <tbody>\n",
              "    <tr>\n",
              "      <th>0</th>\n",
              "      <td>15537388</td>\n",
              "      <td>0x34f2900754317c14b2479f9a0342b0f4e16bd4681a5f...</td>\n",
              "      <td>0x5a2504b5e378f28d8f1fc52bac609eca4f3d79f444c5...</td>\n",
              "      <td>0x9206e9a5cae2058c</td>\n",
              "      <td>0x1dcc4de8dec75d7aab85b567b6ccd41ad312451b948a...</td>\n",
              "      <td>0x502e0487a11080051205989994081820ca2800204251...</td>\n",
              "      <td>0xfb0a569d9a40d1c3ade913ca4eeac661550a6161fd4e...</td>\n",
              "      <td>0x98efdb8d69e7596b660ba0fea82d36f28864e0f95478...</td>\n",
              "      <td>0xaeba43330764722ccfa8b0c76f2c76fb54023a3804ac...</td>\n",
              "      <td>0xea674fdde714fd979de3edf0f56aa9716b898ec8</td>\n",
              "      <td>11031474385146923</td>\n",
              "      <td>58749948497083790670458</td>\n",
              "      <td>19789</td>\n",
              "      <td>0x6575726f70652d77657374332d38</td>\n",
              "      <td>30000000</td>\n",
              "      <td>15109407</td>\n",
              "      <td>1663224133</td>\n",
              "      <td>114</td>\n",
              "      <td>37190466833</td>\n",
              "    </tr>\n",
              "    <tr>\n",
              "      <th>1</th>\n",
              "      <td>15537389</td>\n",
              "      <td>0xc81d887fda0e021a4c54e68f9b6a78d3b70deb18b8af...</td>\n",
              "      <td>0x34f2900754317c14b2479f9a0342b0f4e16bd4681a5f...</td>\n",
              "      <td>0xebba2908368ba3fb</td>\n",
              "      <td>0x1dcc4de8dec75d7aab85b567b6ccd41ad312451b948a...</td>\n",
              "      <td>0x5620abc2a149744b80aa62dda3b974586111019d6104...</td>\n",
              "      <td>0x094b940cd0e1f500e15294d602ce5afcb178d08bbf10...</td>\n",
              "      <td>0xbf7fcb19e96cb3f211717553f58327f8e168403749e6...</td>\n",
              "      <td>0x3b7c1fba752ca54fba30f885ee25db1ecbafdc82956a...</td>\n",
              "      <td>0xea674fdde714fd979de3edf0f56aa9716b898ec8</td>\n",
              "      <td>11032024140960811</td>\n",
              "      <td>58749959529107931631269</td>\n",
              "      <td>36493</td>\n",
              "      <td>0x617369612d65617374322d3131</td>\n",
              "      <td>30029295</td>\n",
              "      <td>26226335</td>\n",
              "      <td>1663224142</td>\n",
              "      <td>175</td>\n",
              "      <td>37224374311</td>\n",
              "    </tr>\n",
              "    <tr>\n",
              "      <th>2</th>\n",
              "      <td>15537390</td>\n",
              "      <td>0xd5b9efdd3659f5b635e0505d787d6b6cc3af4c660def...</td>\n",
              "      <td>0xc81d887fda0e021a4c54e68f9b6a78d3b70deb18b8af...</td>\n",
              "      <td>0x1f07464e8175235f</td>\n",
              "      <td>0x1dcc4de8dec75d7aab85b567b6ccd41ad312451b948a...</td>\n",
              "      <td>0x10004008011000010810002c00c00040104204008440...</td>\n",
              "      <td>0xe16b12997e99393fab92f787e8fceb9880f226e62ed4...</td>\n",
              "      <td>0xde56e0e536fab72545f5c2e54be0fcbdf644cd551eee...</td>\n",
              "      <td>0x9befb155572b619e15a0af9f0cc56148903d4ef28534...</td>\n",
              "      <td>0x829bd824b016326a401d083b33d092293333a830</td>\n",
              "      <td>11037960627312277</td>\n",
              "      <td>58749970567068558943546</td>\n",
              "      <td>7807</td>\n",
              "      <td>0xe4b883e5bda9e7a59ee4bb99e9b1bc472121</td>\n",
              "      <td>30000000</td>\n",
              "      <td>6893891</td>\n",
              "      <td>1663224150</td>\n",
              "      <td>46</td>\n",
              "      <td>40698882159</td>\n",
              "    </tr>\n",
              "    <tr>\n",
              "      <th>3</th>\n",
              "      <td>15537391</td>\n",
              "      <td>0x2f1dc309c7cc0a5a2e3b3dd9315fea0ffbc53c56f923...</td>\n",
              "      <td>0xd5b9efdd3659f5b635e0505d787d6b6cc3af4c660def...</td>\n",
              "      <td>0xac2c3800025a764f</td>\n",
              "      <td>0x1dcc4de8dec75d7aab85b567b6ccd41ad312451b948a...</td>\n",
              "      <td>0x53a240c0610070015299420086041090205a11062100...</td>\n",
              "      <td>0xd976f002afbac9fdf1b028336719b602b9f4660ca103...</td>\n",
              "      <td>0xb8d426f8c8b6ae1c34f6bebf904971be1611c29e8889...</td>\n",
              "      <td>0x6b4d994610806d8a5ed107996abc477688d4d0748763...</td>\n",
              "      <td>0x829bd824b016326a401d083b33d092293333a830</td>\n",
              "      <td>11043900012338719</td>\n",
              "      <td>58749981610968571282265</td>\n",
              "      <td>47274</td>\n",
              "      <td>0xe4b883e5bda9e7a59ee4bb99e9b1bc4b2e22</td>\n",
              "      <td>30000000</td>\n",
              "      <td>16969164</td>\n",
              "      <td>1663224155</td>\n",
              "      <td>105</td>\n",
              "      <td>37949635702</td>\n",
              "    </tr>\n",
              "    <tr>\n",
              "      <th>4</th>\n",
              "      <td>15537392</td>\n",
              "      <td>0x2b3ea3cd4befcab070812443affb08bf17a91ce382c7...</td>\n",
              "      <td>0x2f1dc309c7cc0a5a2e3b3dd9315fea0ffbc53c56f923...</td>\n",
              "      <td>0x232b0043952c93d9</td>\n",
              "      <td>0x1dcc4de8dec75d7aab85b567b6ccd41ad312451b948a...</td>\n",
              "      <td>0xffffffffffffffffffffffffffffffffffffffffffff...</td>\n",
              "      <td>0x82864b3a65d1ac1917c426d48915dca0fc966fbf3f30...</td>\n",
              "      <td>0xfee48a40a2765ab31fcd06ab6956341d13dc2c4b9762...</td>\n",
              "      <td>0x13c10513b52358022f800e2f9f1c50328798427b1b4a...</td>\n",
              "      <td>0xea674fdde714fd979de3edf0f56aa9716b898ec8</td>\n",
              "      <td>11049842297455506</td>\n",
              "      <td>58749992660810868737771</td>\n",
              "      <td>16568</td>\n",
              "      <td>0x617369612d65617374322d31763932</td>\n",
              "      <td>30000000</td>\n",
              "      <td>29990952</td>\n",
              "      <td>1663224156</td>\n",
              "      <td>61</td>\n",
              "      <td>38572377838</td>\n",
              "    </tr>\n",
              "    <tr>\n",
              "      <th>5</th>\n",
              "      <td>15537393</td>\n",
              "      <td>0x55b11b918355b1ef9c5db810302ebad0bf2544255b53...</td>\n",
              "      <td>0x2b3ea3cd4befcab070812443affb08bf17a91ce382c7...</td>\n",
              "      <td>0x62a3ee77461d4fc9</td>\n",
              "      <td>0x1dcc4de8dec75d7aab85b567b6ccd41ad312451b948a...</td>\n",
              "      <td>0x00000400000000000000000000000000000000000000...</td>\n",
              "      <td>0xdd5eec02b019ff76e359b09bfa19395a2a0e97bc01e7...</td>\n",
              "      <td>0x4919dafa6ac8becfbbd0c2808f6c9511a057c21e4283...</td>\n",
              "      <td>0xbaa842cfd552321a9c2450576126311e071680a12580...</td>\n",
              "      <td>0x829bd824b016326a401d083b33d092293333a830</td>\n",
              "      <td>11055787484078698</td>\n",
              "      <td>58750003716598352816469</td>\n",
              "      <td>1636</td>\n",
              "      <td>0xe4b883e5bda9e7a59ee4bb99e9b1bc460021</td>\n",
              "      <td>30000000</td>\n",
              "      <td>29991429</td>\n",
              "      <td>1663224162</td>\n",
              "      <td>1</td>\n",
              "      <td>43391016710</td>\n",
              "    </tr>\n",
              "    <tr>\n",
              "      <th>6</th>\n",
              "      <td>15537394</td>\n",
              "      <td>0x56a9bb0302da44b8c0b3df540781424684c3af04d0b7...</td>\n",
              "      <td>0x55b11b918355b1ef9c5db810302ebad0bf2544255b53...</td>\n",
              "      <td>0x0000000000000000</td>\n",
              "      <td>0x1dcc4de8dec75d7aab85b567b6ccd41ad312451b948a...</td>\n",
              "      <td>0xffffffffffffffffffffffffffffffffffffffffffff...</td>\n",
              "      <td>0x1ea1746468686159ce730c1cc49a886721244e5d1fa9...</td>\n",
              "      <td>0x40c07091e16263270f3579385090fea02dd5f061ba67...</td>\n",
              "      <td>0x928073fb98ce316265ea35d95ab7e2e1206cecd85242...</td>\n",
              "      <td>0xeee27662c2b8eba3cd936a23f039f3189633e4c8</td>\n",
              "      <td>0</td>\n",
              "      <td>58750003716598352816469</td>\n",
              "      <td>18559</td>\n",
              "      <td>0x</td>\n",
              "      <td>30000000</td>\n",
              "      <td>29983006</td>\n",
              "      <td>1663224179</td>\n",
              "      <td>80</td>\n",
              "      <td>48811794595</td>\n",
              "    </tr>\n",
              "    <tr>\n",
              "      <th>7</th>\n",
              "      <td>15537395</td>\n",
              "      <td>0xe37e1a183a3d1c7234d090bfb7196081635919c26f2e...</td>\n",
              "      <td>0x56a9bb0302da44b8c0b3df540781424684c3af04d0b7...</td>\n",
              "      <td>0x0000000000000000</td>\n",
              "      <td>0x1dcc4de8dec75d7aab85b567b6ccd41ad312451b948a...</td>\n",
              "      <td>0xffffffffffffffffffffffffffffffffffffffffffff...</td>\n",
              "      <td>0x5c56184fbce74e9c98d2a51aa2110963396047d84e8c...</td>\n",
              "      <td>0x2ca38a39c5517f658d107c19550334a9820a7393d148...</td>\n",
              "      <td>0x1707e457973ce280debe93f5d478663d97ad192beea1...</td>\n",
              "      <td>0x0b3b161b8abeb6b04cb95c3e6047f80c120a0292</td>\n",
              "      <td>0</td>\n",
              "      <td>58750003716598352816469</td>\n",
              "      <td>36978</td>\n",
              "      <td>0x</td>\n",
              "      <td>30000000</td>\n",
              "      <td>29982083</td>\n",
              "      <td>1663224191</td>\n",
              "      <td>29</td>\n",
              "      <td>54906356355</td>\n",
              "    </tr>\n",
              "    <tr>\n",
              "      <th>8</th>\n",
              "      <td>15537396</td>\n",
              "      <td>0x98c735877f2f30bad54fc46ba8bcd93a54da32a60b29...</td>\n",
              "      <td>0xe37e1a183a3d1c7234d090bfb7196081635919c26f2e...</td>\n",
              "      <td>0x0000000000000000</td>\n",
              "      <td>0x1dcc4de8dec75d7aab85b567b6ccd41ad312451b948a...</td>\n",
              "      <td>0x95248824802c120a80100904f00200b8aa1806824c80...</td>\n",
              "      <td>0xf103ec8f4895f63748a3f8d182af659736d1fc593d71...</td>\n",
              "      <td>0xe6b8248ff047d9f34ecd82bcc1af2f45e08cd9157168...</td>\n",
              "      <td>0xf39845a5eabaa2848ff4c6bec8b1ede03ac5e6aa475e...</td>\n",
              "      <td>0x388c818ca8b9251b393131c08a736a67ccb19297</td>\n",
              "      <td>0</td>\n",
              "      <td>58750003716598352816469</td>\n",
              "      <td>40259</td>\n",
              "      <td>0x</td>\n",
              "      <td>30000000</td>\n",
              "      <td>29980461</td>\n",
              "      <td>1663224203</td>\n",
              "      <td>170</td>\n",
              "      <td>61761452922</td>\n",
              "    </tr>\n",
              "    <tr>\n",
              "      <th>9</th>\n",
              "      <td>15537397</td>\n",
              "      <td>0x9797d65f12465ada68cdacf7e6b7c22fe43a4d096711...</td>\n",
              "      <td>0x98c735877f2f30bad54fc46ba8bcd93a54da32a60b29...</td>\n",
              "      <td>0x0000000000000000</td>\n",
              "      <td>0x1dcc4de8dec75d7aab85b567b6ccd41ad312451b948a...</td>\n",
              "      <td>0x10000905a11025401e40204209111c0d8401a63a2002...</td>\n",
              "      <td>0x165a029503ae62a153a3b9589a09db72646749266b2b...</td>\n",
              "      <td>0x2c1728ed8e5d59c813fae703638b359fd13f0c58270f...</td>\n",
              "      <td>0x20cebf97b0024253e3e959ed681c5c659d44a13e94ee...</td>\n",
              "      <td>0xe688b84b23f322a994a53dbf8e15fa82cdb71127</td>\n",
              "      <td>0</td>\n",
              "      <td>58750003716598352816469</td>\n",
              "      <td>43784</td>\n",
              "      <td>0x</td>\n",
              "      <td>30000000</td>\n",
              "      <td>29997984</td>\n",
              "      <td>1663224215</td>\n",
              "      <td>148</td>\n",
              "      <td>69471578228</td>\n",
              "    </tr>\n",
              "  </tbody>\n",
              "</table>\n",
              "</div>\n",
              "      <button class=\"colab-df-convert\" onclick=\"convertToInteractive('df-d3d390c7-66bf-403a-ae42-3c9c09fa5c6b')\"\n",
              "              title=\"Convert this dataframe to an interactive table.\"\n",
              "              style=\"display:none;\">\n",
              "        \n",
              "  <svg xmlns=\"http://www.w3.org/2000/svg\" height=\"24px\"viewBox=\"0 0 24 24\"\n",
              "       width=\"24px\">\n",
              "    <path d=\"M0 0h24v24H0V0z\" fill=\"none\"/>\n",
              "    <path d=\"M18.56 5.44l.94 2.06.94-2.06 2.06-.94-2.06-.94-.94-2.06-.94 2.06-2.06.94zm-11 1L8.5 8.5l.94-2.06 2.06-.94-2.06-.94L8.5 2.5l-.94 2.06-2.06.94zm10 10l.94 2.06.94-2.06 2.06-.94-2.06-.94-.94-2.06-.94 2.06-2.06.94z\"/><path d=\"M17.41 7.96l-1.37-1.37c-.4-.4-.92-.59-1.43-.59-.52 0-1.04.2-1.43.59L10.3 9.45l-7.72 7.72c-.78.78-.78 2.05 0 2.83L4 21.41c.39.39.9.59 1.41.59.51 0 1.02-.2 1.41-.59l7.78-7.78 2.81-2.81c.8-.78.8-2.07 0-2.86zM5.41 20L4 18.59l7.72-7.72 1.47 1.35L5.41 20z\"/>\n",
              "  </svg>\n",
              "      </button>\n",
              "      \n",
              "  <style>\n",
              "    .colab-df-container {\n",
              "      display:flex;\n",
              "      flex-wrap:wrap;\n",
              "      gap: 12px;\n",
              "    }\n",
              "\n",
              "    .colab-df-convert {\n",
              "      background-color: #E8F0FE;\n",
              "      border: none;\n",
              "      border-radius: 50%;\n",
              "      cursor: pointer;\n",
              "      display: none;\n",
              "      fill: #1967D2;\n",
              "      height: 32px;\n",
              "      padding: 0 0 0 0;\n",
              "      width: 32px;\n",
              "    }\n",
              "\n",
              "    .colab-df-convert:hover {\n",
              "      background-color: #E2EBFA;\n",
              "      box-shadow: 0px 1px 2px rgba(60, 64, 67, 0.3), 0px 1px 3px 1px rgba(60, 64, 67, 0.15);\n",
              "      fill: #174EA6;\n",
              "    }\n",
              "\n",
              "    [theme=dark] .colab-df-convert {\n",
              "      background-color: #3B4455;\n",
              "      fill: #D2E3FC;\n",
              "    }\n",
              "\n",
              "    [theme=dark] .colab-df-convert:hover {\n",
              "      background-color: #434B5C;\n",
              "      box-shadow: 0px 1px 3px 1px rgba(0, 0, 0, 0.15);\n",
              "      filter: drop-shadow(0px 1px 2px rgba(0, 0, 0, 0.3));\n",
              "      fill: #FFFFFF;\n",
              "    }\n",
              "  </style>\n",
              "\n",
              "      <script>\n",
              "        const buttonEl =\n",
              "          document.querySelector('#df-d3d390c7-66bf-403a-ae42-3c9c09fa5c6b button.colab-df-convert');\n",
              "        buttonEl.style.display =\n",
              "          google.colab.kernel.accessAllowed ? 'block' : 'none';\n",
              "\n",
              "        async function convertToInteractive(key) {\n",
              "          const element = document.querySelector('#df-d3d390c7-66bf-403a-ae42-3c9c09fa5c6b');\n",
              "          const dataTable =\n",
              "            await google.colab.kernel.invokeFunction('convertToInteractive',\n",
              "                                                     [key], {});\n",
              "          if (!dataTable) return;\n",
              "\n",
              "          const docLinkHtml = 'Like what you see? Visit the ' +\n",
              "            '<a target=\"_blank\" href=https://colab.research.google.com/notebooks/data_table.ipynb>data table notebook</a>'\n",
              "            + ' to learn more about interactive tables.';\n",
              "          element.innerHTML = '';\n",
              "          dataTable['output_type'] = 'display_data';\n",
              "          await google.colab.output.renderOutput(dataTable, element);\n",
              "          const docLink = document.createElement('div');\n",
              "          docLink.innerHTML = docLinkHtml;\n",
              "          element.appendChild(docLink);\n",
              "        }\n",
              "      </script>\n",
              "    </div>\n",
              "  </div>\n",
              "  "
            ]
          },
          "metadata": {}
        }
      ]
    },
    {
      "cell_type": "markdown",
      "source": [
        "## 2. Query Transaction Data"
      ],
      "metadata": {
        "id": "YDPgaP32k1Bc"
      }
    },
    {
      "cell_type": "code",
      "source": [
        "!ethereumetl export_blocks_and_transactions --start-block 15537388 --end-block 15537398 --transactions-output transactions.csv --provider-uri https://celo-mainnet.infura.io/v3/8f76a72b0ca548538a1fb31ba64c385c"
      ],
      "metadata": {
        "colab": {
          "base_uri": "https://localhost:8080/"
        },
        "id": "HDjw0BKkO1cJ",
        "outputId": "a7953fcd-9feb-4a48-c5bb-1441f9d86849"
      },
      "execution_count": 21,
      "outputs": [
        {
          "output_type": "stream",
          "name": "stdout",
          "text": [
            "2023-02-04 19:24:49,606 - ProgressLogger [INFO] - Started work. Items to process: 11.\n",
            "2023-02-04 19:24:50,091 - ProgressLogger [INFO] - 11 items processed. Progress is 100%.\n",
            "2023-02-04 19:24:50,091 - ProgressLogger [INFO] - Finished work. Total items processed: 11. Took 0:00:00.485525.\n",
            "2023-02-04 19:24:50,092 - CompositeItemExporter [INFO] - block items exported: 0\n",
            "2023-02-04 19:24:50,094 - CompositeItemExporter [INFO] - transaction items exported: 207\n",
            "\u001b[0m"
          ]
        }
      ]
    },
    {
      "cell_type": "code",
      "source": [
        "df_transactions = pd.read_csv('./transactions.csv')\n",
        "display(df_transactions.head())"
      ],
      "metadata": {
        "colab": {
          "base_uri": "https://localhost:8080/",
          "height": 270
        },
        "id": "F0JKRNkNPeid",
        "outputId": "737da011-2bed-4811-f3c0-4c3acbdb1522"
      },
      "execution_count": 22,
      "outputs": [
        {
          "output_type": "display_data",
          "data": {
            "text/plain": [
              "                                                hash   nonce  \\\n",
              "0  0x10820bd64c0e675f8587c545b72eaa64d03007259e15...  281547   \n",
              "1  0x0a7b9e7a7e201255c8892abb2c344e0df4dad0d517e4...  661167   \n",
              "2  0x5e9e5273166deab5161ec60330d736f7f12397ccb30c...  229127   \n",
              "3  0x80b763a8854d44c67ecc337cf4efcb9166927a46003f...  621965   \n",
              "4  0x696b8c2a7af5b2dc5be34224bb0f967b44c0cbe9740e...  621915   \n",
              "\n",
              "                                          block_hash  block_number  \\\n",
              "0  0xe8e4f394a954cfede784f4f32d7862cd232cc284754d...      15537388   \n",
              "1  0xe8e4f394a954cfede784f4f32d7862cd232cc284754d...      15537388   \n",
              "2  0xe8e4f394a954cfede784f4f32d7862cd232cc284754d...      15537388   \n",
              "3  0xe8e4f394a954cfede784f4f32d7862cd232cc284754d...      15537388   \n",
              "4  0xe8e4f394a954cfede784f4f32d7862cd232cc284754d...      15537388   \n",
              "\n",
              "   transaction_index                                from_address  \\\n",
              "0                  0  0xc59bf99c610e254fa976cd65cfef01c847cafac5   \n",
              "1                  1  0xe3645ecafac46f0e198de91149c7af4b754c6b50   \n",
              "2                  2  0xaf9643ced22cd068b0406ec4d235e1ed6378814d   \n",
              "3                  3  0x999f1389f87915fddbd6c93f00c09277a4ad3040   \n",
              "4                  4  0x520f1bb72b8bbadccdeb57b85a9932111f878782   \n",
              "\n",
              "                                   to_address  value      gas   gas_price  \\\n",
              "0  0x63067b2046c5a3a9e1a2b87768eae544550f7539      0  1500000  4900687371   \n",
              "1  0x8aed297d48551a72980d4416838055b95420508c      0  1527520  1456402070   \n",
              "2  0xdd4ac62a80e38b474c49db0adff3ec101b351cad      0  1500000   200000001   \n",
              "3  0xd5d444af2788e78fb956818b577be9ebc5485d72      0  1561718   100100000   \n",
              "4  0xd5d444af2788e78fb956818b577be9ebc5485d72      0  1561718   100100000   \n",
              "\n",
              "                                               input  block_timestamp  \\\n",
              "0  0x000000a9000000000000000000000000000000000000...       1665354929   \n",
              "1                                         0x14ff1872       1665354929   \n",
              "2  0x252568fb000000000000000000000000000000000000...       1665354929   \n",
              "3  0x8e78cd92000000000000000000000000000000000000...       1665354929   \n",
              "4  0x8e78cd92000000000000000000000000000000000000...       1665354929   \n",
              "\n",
              "   max_fee_per_gas  max_priority_fee_per_gas  transaction_type  \n",
              "0              NaN                       NaN                 0  \n",
              "1              NaN                       NaN                 0  \n",
              "2              NaN                       NaN                 0  \n",
              "3              NaN                       NaN                 0  \n",
              "4              NaN                       NaN                 0  "
            ],
            "text/html": [
              "\n",
              "  <div id=\"df-dfecc5ea-c575-4a50-a190-1c7988e98ad6\">\n",
              "    <div class=\"colab-df-container\">\n",
              "      <div>\n",
              "<style scoped>\n",
              "    .dataframe tbody tr th:only-of-type {\n",
              "        vertical-align: middle;\n",
              "    }\n",
              "\n",
              "    .dataframe tbody tr th {\n",
              "        vertical-align: top;\n",
              "    }\n",
              "\n",
              "    .dataframe thead th {\n",
              "        text-align: right;\n",
              "    }\n",
              "</style>\n",
              "<table border=\"1\" class=\"dataframe\">\n",
              "  <thead>\n",
              "    <tr style=\"text-align: right;\">\n",
              "      <th></th>\n",
              "      <th>hash</th>\n",
              "      <th>nonce</th>\n",
              "      <th>block_hash</th>\n",
              "      <th>block_number</th>\n",
              "      <th>transaction_index</th>\n",
              "      <th>from_address</th>\n",
              "      <th>to_address</th>\n",
              "      <th>value</th>\n",
              "      <th>gas</th>\n",
              "      <th>gas_price</th>\n",
              "      <th>input</th>\n",
              "      <th>block_timestamp</th>\n",
              "      <th>max_fee_per_gas</th>\n",
              "      <th>max_priority_fee_per_gas</th>\n",
              "      <th>transaction_type</th>\n",
              "    </tr>\n",
              "  </thead>\n",
              "  <tbody>\n",
              "    <tr>\n",
              "      <th>0</th>\n",
              "      <td>0x10820bd64c0e675f8587c545b72eaa64d03007259e15...</td>\n",
              "      <td>281547</td>\n",
              "      <td>0xe8e4f394a954cfede784f4f32d7862cd232cc284754d...</td>\n",
              "      <td>15537388</td>\n",
              "      <td>0</td>\n",
              "      <td>0xc59bf99c610e254fa976cd65cfef01c847cafac5</td>\n",
              "      <td>0x63067b2046c5a3a9e1a2b87768eae544550f7539</td>\n",
              "      <td>0</td>\n",
              "      <td>1500000</td>\n",
              "      <td>4900687371</td>\n",
              "      <td>0x000000a9000000000000000000000000000000000000...</td>\n",
              "      <td>1665354929</td>\n",
              "      <td>NaN</td>\n",
              "      <td>NaN</td>\n",
              "      <td>0</td>\n",
              "    </tr>\n",
              "    <tr>\n",
              "      <th>1</th>\n",
              "      <td>0x0a7b9e7a7e201255c8892abb2c344e0df4dad0d517e4...</td>\n",
              "      <td>661167</td>\n",
              "      <td>0xe8e4f394a954cfede784f4f32d7862cd232cc284754d...</td>\n",
              "      <td>15537388</td>\n",
              "      <td>1</td>\n",
              "      <td>0xe3645ecafac46f0e198de91149c7af4b754c6b50</td>\n",
              "      <td>0x8aed297d48551a72980d4416838055b95420508c</td>\n",
              "      <td>0</td>\n",
              "      <td>1527520</td>\n",
              "      <td>1456402070</td>\n",
              "      <td>0x14ff1872</td>\n",
              "      <td>1665354929</td>\n",
              "      <td>NaN</td>\n",
              "      <td>NaN</td>\n",
              "      <td>0</td>\n",
              "    </tr>\n",
              "    <tr>\n",
              "      <th>2</th>\n",
              "      <td>0x5e9e5273166deab5161ec60330d736f7f12397ccb30c...</td>\n",
              "      <td>229127</td>\n",
              "      <td>0xe8e4f394a954cfede784f4f32d7862cd232cc284754d...</td>\n",
              "      <td>15537388</td>\n",
              "      <td>2</td>\n",
              "      <td>0xaf9643ced22cd068b0406ec4d235e1ed6378814d</td>\n",
              "      <td>0xdd4ac62a80e38b474c49db0adff3ec101b351cad</td>\n",
              "      <td>0</td>\n",
              "      <td>1500000</td>\n",
              "      <td>200000001</td>\n",
              "      <td>0x252568fb000000000000000000000000000000000000...</td>\n",
              "      <td>1665354929</td>\n",
              "      <td>NaN</td>\n",
              "      <td>NaN</td>\n",
              "      <td>0</td>\n",
              "    </tr>\n",
              "    <tr>\n",
              "      <th>3</th>\n",
              "      <td>0x80b763a8854d44c67ecc337cf4efcb9166927a46003f...</td>\n",
              "      <td>621965</td>\n",
              "      <td>0xe8e4f394a954cfede784f4f32d7862cd232cc284754d...</td>\n",
              "      <td>15537388</td>\n",
              "      <td>3</td>\n",
              "      <td>0x999f1389f87915fddbd6c93f00c09277a4ad3040</td>\n",
              "      <td>0xd5d444af2788e78fb956818b577be9ebc5485d72</td>\n",
              "      <td>0</td>\n",
              "      <td>1561718</td>\n",
              "      <td>100100000</td>\n",
              "      <td>0x8e78cd92000000000000000000000000000000000000...</td>\n",
              "      <td>1665354929</td>\n",
              "      <td>NaN</td>\n",
              "      <td>NaN</td>\n",
              "      <td>0</td>\n",
              "    </tr>\n",
              "    <tr>\n",
              "      <th>4</th>\n",
              "      <td>0x696b8c2a7af5b2dc5be34224bb0f967b44c0cbe9740e...</td>\n",
              "      <td>621915</td>\n",
              "      <td>0xe8e4f394a954cfede784f4f32d7862cd232cc284754d...</td>\n",
              "      <td>15537388</td>\n",
              "      <td>4</td>\n",
              "      <td>0x520f1bb72b8bbadccdeb57b85a9932111f878782</td>\n",
              "      <td>0xd5d444af2788e78fb956818b577be9ebc5485d72</td>\n",
              "      <td>0</td>\n",
              "      <td>1561718</td>\n",
              "      <td>100100000</td>\n",
              "      <td>0x8e78cd92000000000000000000000000000000000000...</td>\n",
              "      <td>1665354929</td>\n",
              "      <td>NaN</td>\n",
              "      <td>NaN</td>\n",
              "      <td>0</td>\n",
              "    </tr>\n",
              "  </tbody>\n",
              "</table>\n",
              "</div>\n",
              "      <button class=\"colab-df-convert\" onclick=\"convertToInteractive('df-dfecc5ea-c575-4a50-a190-1c7988e98ad6')\"\n",
              "              title=\"Convert this dataframe to an interactive table.\"\n",
              "              style=\"display:none;\">\n",
              "        \n",
              "  <svg xmlns=\"http://www.w3.org/2000/svg\" height=\"24px\"viewBox=\"0 0 24 24\"\n",
              "       width=\"24px\">\n",
              "    <path d=\"M0 0h24v24H0V0z\" fill=\"none\"/>\n",
              "    <path d=\"M18.56 5.44l.94 2.06.94-2.06 2.06-.94-2.06-.94-.94-2.06-.94 2.06-2.06.94zm-11 1L8.5 8.5l.94-2.06 2.06-.94-2.06-.94L8.5 2.5l-.94 2.06-2.06.94zm10 10l.94 2.06.94-2.06 2.06-.94-2.06-.94-.94-2.06-.94 2.06-2.06.94z\"/><path d=\"M17.41 7.96l-1.37-1.37c-.4-.4-.92-.59-1.43-.59-.52 0-1.04.2-1.43.59L10.3 9.45l-7.72 7.72c-.78.78-.78 2.05 0 2.83L4 21.41c.39.39.9.59 1.41.59.51 0 1.02-.2 1.41-.59l7.78-7.78 2.81-2.81c.8-.78.8-2.07 0-2.86zM5.41 20L4 18.59l7.72-7.72 1.47 1.35L5.41 20z\"/>\n",
              "  </svg>\n",
              "      </button>\n",
              "      \n",
              "  <style>\n",
              "    .colab-df-container {\n",
              "      display:flex;\n",
              "      flex-wrap:wrap;\n",
              "      gap: 12px;\n",
              "    }\n",
              "\n",
              "    .colab-df-convert {\n",
              "      background-color: #E8F0FE;\n",
              "      border: none;\n",
              "      border-radius: 50%;\n",
              "      cursor: pointer;\n",
              "      display: none;\n",
              "      fill: #1967D2;\n",
              "      height: 32px;\n",
              "      padding: 0 0 0 0;\n",
              "      width: 32px;\n",
              "    }\n",
              "\n",
              "    .colab-df-convert:hover {\n",
              "      background-color: #E2EBFA;\n",
              "      box-shadow: 0px 1px 2px rgba(60, 64, 67, 0.3), 0px 1px 3px 1px rgba(60, 64, 67, 0.15);\n",
              "      fill: #174EA6;\n",
              "    }\n",
              "\n",
              "    [theme=dark] .colab-df-convert {\n",
              "      background-color: #3B4455;\n",
              "      fill: #D2E3FC;\n",
              "    }\n",
              "\n",
              "    [theme=dark] .colab-df-convert:hover {\n",
              "      background-color: #434B5C;\n",
              "      box-shadow: 0px 1px 3px 1px rgba(0, 0, 0, 0.15);\n",
              "      filter: drop-shadow(0px 1px 2px rgba(0, 0, 0, 0.3));\n",
              "      fill: #FFFFFF;\n",
              "    }\n",
              "  </style>\n",
              "\n",
              "      <script>\n",
              "        const buttonEl =\n",
              "          document.querySelector('#df-dfecc5ea-c575-4a50-a190-1c7988e98ad6 button.colab-df-convert');\n",
              "        buttonEl.style.display =\n",
              "          google.colab.kernel.accessAllowed ? 'block' : 'none';\n",
              "\n",
              "        async function convertToInteractive(key) {\n",
              "          const element = document.querySelector('#df-dfecc5ea-c575-4a50-a190-1c7988e98ad6');\n",
              "          const dataTable =\n",
              "            await google.colab.kernel.invokeFunction('convertToInteractive',\n",
              "                                                     [key], {});\n",
              "          if (!dataTable) return;\n",
              "\n",
              "          const docLinkHtml = 'Like what you see? Visit the ' +\n",
              "            '<a target=\"_blank\" href=https://colab.research.google.com/notebooks/data_table.ipynb>data table notebook</a>'\n",
              "            + ' to learn more about interactive tables.';\n",
              "          element.innerHTML = '';\n",
              "          dataTable['output_type'] = 'display_data';\n",
              "          await google.colab.output.renderOutput(dataTable, element);\n",
              "          const docLink = document.createElement('div');\n",
              "          docLink.innerHTML = docLinkHtml;\n",
              "          element.appendChild(docLink);\n",
              "        }\n",
              "      </script>\n",
              "    </div>\n",
              "  </div>\n",
              "  "
            ]
          },
          "metadata": {}
        }
      ]
    },
    {
      "cell_type": "markdown",
      "source": [
        "## 3. Query Token Data"
      ],
      "metadata": {
        "id": "XRKjN33hlmCC"
      }
    },
    {
      "cell_type": "markdown",
      "source": [
        "### 3.1 Query All Token Transfers"
      ],
      "metadata": {
        "id": "oAaKjkqRRy0f"
      }
    },
    {
      "cell_type": "code",
      "source": [
        "!ethereumetl export_token_transfers --start-block 15537388 --end-block 15537398 --provider-uri https://celo-mainnet.infura.io/v3/8f76a72b0ca548538a1fb31ba64c385c --output token_transfers.csv"
      ],
      "metadata": {
        "id": "TPD4z45-PqxL"
      },
      "execution_count": null,
      "outputs": []
    },
    {
      "cell_type": "code",
      "source": [
        "df_token_transfers = pd.read_csv('./token_transfers.csv')\n",
        "display(df_token_transfers.head())"
      ],
      "metadata": {
        "id": "R1E-kNlVQa4O"
      },
      "execution_count": null,
      "outputs": []
    },
    {
      "cell_type": "code",
      "source": [
        "df = df_token_transfers[df_token_transfers.token_address==\"0x7bc25283a29a3888cab4555ea86ff1a8c18cc90a\"]\n",
        "df.head()"
      ],
      "metadata": {
        "id": "MP99ywxlYcTa"
      },
      "execution_count": null,
      "outputs": []
    },
    {
      "cell_type": "markdown",
      "source": [
        "### 3.1 Query a specific ERC20 token transfers"
      ],
      "metadata": {
        "id": "4jiTdtxIR3Cp"
      }
    },
    {
      "cell_type": "markdown",
      "source": [
        "*references*:\n",
        "\n",
        "* Commond Documentations: https://ethereum-etl.readthedocs.io/en/latest/commands/\n",
        "* Token Address: https://github.com/blockchain-etl/ethereum-etl-airflow/blob/master/dags/resources/stages/seed/data/token_amendments.csv\n",
        "* More detailed: https://github.com/blockchain-etl/ethereum-etl-airflow\n",
        "* Proof-of-Reserve: https://blog.chain.link/stablecoins-and-proof-of-reserve/\n",
        "\n",
        "\n",
        "\n"
      ],
      "metadata": {
        "id": "04LJGJG5SOZX"
      }
    },
    {
      "cell_type": "code",
      "source": [
        "#@title Token Name\n",
        "Token_Name = \"SushiToken\" #@param {type:\"string\"}\n",
        "\n"
      ],
      "metadata": {
        "id": "phqvKdCpufSj"
      },
      "execution_count": null,
      "outputs": []
    },
    {
      "cell_type": "code",
      "source": [
        "#@title Token Symbol\n",
        "Token_Symbol = \"SUSHI\" #@param {type:\"string\"}\n"
      ],
      "metadata": {
        "id": "usaJvuxcuYQj"
      },
      "execution_count": null,
      "outputs": []
    },
    {
      "cell_type": "code",
      "source": [
        "#@title Token Address\n",
        "token_address = \"0x6b3595068778dd592e39a122f4f5a5cf09c90fe2\" #@param {type:\"string\"}\n"
      ],
      "metadata": {
        "id": "s5CVCTTtW_cG"
      },
      "execution_count": null,
      "outputs": []
    },
    {
      "cell_type": "code",
      "source": [
        "!ethereumetl export_token_transfers --start-block 15537388 --end-block 15537398 --provider-uri https://celo-mainnet.infura.io/v3/8f76a72b0ca548538a1fb31ba64c385c --output token_transfers_SUSHI.csv --tokens 0x6b3595068778dd592e39a122f4f5a5cf09c90fe2"
      ],
      "metadata": {
        "id": "ZU2AcCV5bObT"
      },
      "execution_count": null,
      "outputs": []
    },
    {
      "cell_type": "code",
      "source": [
        "df_token_transfers_SUSHI = pd.read_csv('./token_transfers_SUSHI.csv')\n",
        "display(df_token_transfers_SUSHI.head())"
      ],
      "metadata": {
        "id": "-0PuB2CDXGVt"
      },
      "execution_count": null,
      "outputs": []
    },
    {
      "cell_type": "markdown",
      "source": [
        "### 3.1 Query a specific ERC721 token transfers"
      ],
      "metadata": {
        "id": "CzTh0vUF5vSC"
      }
    },
    {
      "cell_type": "markdown",
      "source": [
        "ADD YOUR CODE AND TEXT BOX BELOW"
      ],
      "metadata": {
        "id": "A_h-rojv54GL"
      }
    },
    {
      "cell_type": "code",
      "source": [
        "#@title Token Name\n",
        "Token_Name = \"Bored Ape Yacht Club\" #@param {type:\"string\"}\n",
        "\n"
      ],
      "metadata": {
        "id": "TrtZR17Y6drk"
      },
      "execution_count": null,
      "outputs": []
    },
    {
      "cell_type": "code",
      "source": [
        "#@title Token Symbol\n",
        "Token_Symbol = \"BAYC\" #@param {type:\"string\"}\n"
      ],
      "metadata": {
        "id": "Y6Xmj42c6iwN"
      },
      "execution_count": null,
      "outputs": []
    },
    {
      "cell_type": "code",
      "source": [
        "#@title Token Address\n",
        "token_address = \"0x4d224452801ACEd8B2F0aebE155379bb5D594381\" #@param {type:\"string\"}\n"
      ],
      "metadata": {
        "id": "fWW43eob6vbk"
      },
      "execution_count": null,
      "outputs": []
    },
    {
      "cell_type": "code",
      "source": [
        "!ethereumetl export_token_transfers --start-block 15537388 --end-block 15537398 --provider-uri https://celo-mainnet.infura.io/v3/8f76a72b0ca548538a1fb31ba64c385c --output token_transfers_BAYC.csv --tokens 0x4d224452801ACEd8B2F0aebE155379bb5D594381"
      ],
      "metadata": {
        "id": "xPFRF_kA6zj7"
      },
      "execution_count": null,
      "outputs": []
    },
    {
      "cell_type": "code",
      "source": [
        "df_token_transfers_BAYC = pd.read_csv('./token_transfers_BAYC.csv')\n",
        "display(df_token_transfers_BAYC.head())"
      ],
      "metadata": {
        "id": "zIlKerIP6zZY"
      },
      "execution_count": null,
      "outputs": []
    }
  ]
}