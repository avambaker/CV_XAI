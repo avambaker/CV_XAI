{
  "nbformat": 4,
  "nbformat_minor": 0,
  "metadata": {
    "colab": {
      "provenance": [],
      "authorship_tag": "ABX9TyP4MJyWG6boT1GSYDDZSu/U",
      "include_colab_link": true
    },
    "kernelspec": {
      "name": "python3",
      "display_name": "Python 3"
    },
    "language_info": {
      "name": "python"
    }
  },
  "cells": [
    {
      "cell_type": "markdown",
      "metadata": {
        "id": "view-in-github",
        "colab_type": "text"
      },
      "source": [
        "<a href=\"https://colab.research.google.com/github/avambaker/CV_XAI/blob/master/read_excel.ipynb\" target=\"_parent\"><img src=\"https://colab.research.google.com/assets/colab-badge.svg\" alt=\"Open In Colab\"/></a>"
      ]
    },
    {
      "cell_type": "markdown",
      "source": [
        "# Set Up\n",
        "\n",
        "Import libraries, read the excel sheet"
      ],
      "metadata": {
        "id": "X0V_fYjj2QdU"
      }
    },
    {
      "cell_type": "code",
      "execution_count": 240,
      "metadata": {
        "colab": {
          "base_uri": "https://localhost:8080/"
        },
        "id": "8wGiT6vQ2No5",
        "outputId": "4d65c856-d40d-4132-ae9b-e2ae436c1b2e"
      },
      "outputs": [
        {
          "name": "stdout",
          "output_type": "stream",
          "text": [
            "enter filename: test.xlsx\n"
          ]
        }
      ],
      "source": [
        "# import\n",
        "from openpyxl import load_workbook\n",
        "import pandas as pd\n",
        " \n",
        "#request filename and prepare name for export\n",
        "file_name = input(\"enter filename: \")\n",
        "newname = file_name[0: len(file_name)-4]+\"btf\"\n",
        "\n",
        "# open workbook\n",
        "wb = load_workbook(filename = file_name)"
      ]
    },
    {
      "cell_type": "markdown",
      "source": [
        "# Process Data\n",
        "\n",
        "Save data in corresponding lists and variables"
      ],
      "metadata": {
        "id": "GfLC2nIX8p8B"
      }
    },
    {
      "cell_type": "markdown",
      "source": [
        "## Info"
      ],
      "metadata": {
        "id": "WhDd4Q2xgrbx"
      }
    },
    {
      "cell_type": "code",
      "source": [
        "wb.active = 0\n",
        "info_sheet = wb.active\n",
        "\n",
        "#assign variables to the values\n",
        "bibtype_value = str(info_sheet['B1'].value)\n",
        "row_value = str(info_sheet['B2'].value)\n",
        "col_value = str(info_sheet['B3'].value)\n",
        "edge_value = str(info_sheet['B4'].value)\n",
        "device_value = str(info_sheet['B5'].value)\n",
        "\n",
        "\n",
        "hardware_value = \"ALSO FIX THIS\""
      ],
      "metadata": {
        "id": "CWbPeQZMQTbK"
      },
      "execution_count": 241,
      "outputs": []
    },
    {
      "cell_type": "code",
      "source": [
        "print(bibtype_value)\n",
        "print(row_value)\n",
        "print(col_value)\n",
        "print(edge_value)\n",
        "print(device_value)"
      ],
      "metadata": {
        "colab": {
          "base_uri": "https://localhost:8080/"
        },
        "id": "UGgsVdcPg_lK",
        "outputId": "cbd5d3e2-6740-4ca4-e7dc-831d4f4d895e"
      },
      "execution_count": 242,
      "outputs": [
        {
          "output_type": "stream",
          "name": "stdout",
          "text": [
            "18\n",
            "6\n",
            "8\n",
            "Left\n",
            "BOARD_1\n"
          ]
        }
      ]
    },
    {
      "cell_type": "markdown",
      "source": [
        "## Pins"
      ],
      "metadata": {
        "id": "AkOqwA3Egy-w"
      }
    },
    {
      "cell_type": "code",
      "source": [
        "#set active sheet\n",
        "wb.active = 1\n",
        "pins_sheet = wb.active\n",
        "\n",
        "# save columns as lists and delete headers\n",
        "pins = [c.value for c in pins_sheet['A']]\n",
        "del(pins[0])\n",
        "\n",
        "types = [c.value for c in pins_sheet['B']]\n",
        "del(types[0])"
      ],
      "metadata": {
        "id": "IilR1lVyg2ya"
      },
      "execution_count": 243,
      "outputs": []
    },
    {
      "cell_type": "code",
      "source": [
        "print(pins)\n",
        "print(types)"
      ],
      "metadata": {
        "colab": {
          "base_uri": "https://localhost:8080/"
        },
        "id": "lLioItws1i4Z",
        "outputId": "e597c9fe-84f9-4f9b-9e11-994e6b33cad0"
      },
      "execution_count": 244,
      "outputs": [
        {
          "output_type": "stream",
          "name": "stdout",
          "text": [
            "['SYS_CLK', 'RESETb', 'TEST_ENb', 'SCP0_CLK', 'SCP0_CSb', 'SCP0_MOSI', 'TM0', 'TM1', 'TM2', 'TM3', 'TM4', 'GPIO0', 'GPIO1', 'GPIO48', 'PS1_LDO_VMON', 'PS2_LDO_VMON', 'PS3_LDO_VMON', 'PS1_VMON', 'PS2_VMON', 'PS3_VMON', 'PS1_IMON', 'PS2_IMON', 'PS3_IMON']\n",
            "['Partial', 'Partial', 'Partial', 'Partial', 'Partial', 'Partial', 'Partial', 'Partial', 'Partial', 'Partial', 'Partial', 'Partial', 'Partial', 'Strict', 'Strict', 'Strict', 'Strict', 'Strict', 'Strict', 'Strict', 'Strict', 'Strict', 'Strict']\n"
          ]
        }
      ]
    },
    {
      "cell_type": "markdown",
      "source": [
        "## Duts"
      ],
      "metadata": {
        "id": "w1N_loC71iCq"
      }
    },
    {
      "cell_type": "code",
      "source": [
        "#set active sheet\n",
        "wb.active = 2\n",
        "duts_sheet = wb.active\n",
        "\n",
        "#turn sheet into a pandas dataframe\n",
        "df = pd.DataFrame(duts_sheet.values, columns=next(duts_sheet.values)[0:])\n",
        "\n",
        "#set up lists\n",
        "duts = []\n",
        "numbers = []\n",
        "\n",
        "#fill in blank cells\n",
        "df = df.fillna('_')\n",
        "\n",
        "#print(df)\n",
        "\n",
        "#partition cell contents into lists\n",
        "for index, row in df.iterrows():\n",
        "  if(index!=0):\n",
        "    \"\"\"\n",
        "    temp_list = []\n",
        "    for x in row:\n",
        "      if(x==0):\n",
        "        duts.append(str(x))\n",
        "      else:\n",
        "        if(pd.isnull(x)):\n",
        "          temp_list.append(\"_\")\n",
        "        else:\n",
        "          temp_list.append(str(int(x)))\n",
        "      temp_string = \",\".join(temp_list)\n",
        "      numbers.append(temp_string)\n",
        "      \"\"\"\n",
        "    temp_list = [str(x) for x in df.iloc[index,:]]\n",
        "    duts.append(str(temp_list.pop(0)))\n",
        "    temp_string = \",\".join(temp_list)\n",
        "    final = temp_string.replace(\".0\",\"\")\n",
        "    numbers.append(final)\n"
      ],
      "metadata": {
        "id": "gnvFMU-v8rti"
      },
      "execution_count": 245,
      "outputs": []
    },
    {
      "cell_type": "code",
      "source": [
        "print(duts)\n",
        "print(numbers)"
      ],
      "metadata": {
        "colab": {
          "base_uri": "https://localhost:8080/"
        },
        "id": "DFRhFSwWIwyH",
        "outputId": "ecef7fc6-3059-4b12-85d8-557732b05796"
      },
      "execution_count": 246,
      "outputs": [
        {
          "output_type": "stream",
          "name": "stdout",
          "text": [
            "['68', '67', '66', '65', '64', '63', '62', '61', '58', '57', '56', '55', '54', '53', '52', '51', '48', '47', '46', '45', '44', '43', '42', '41', '38', '37', '36', '35', '34', '33', '32', '31', '28', '27', '26', '25', '24', '23', '22', '21', '18', '17', '16', '15', '14', '13', '12', '11']\n",
            "['82,84,86,87,88,89,_,91,92,93,94,95,96,144,154,152,150,155,156,157,158,159,160', '82,84,86,87,88,89,90,91,92,93,94,95,96,143,154,152,150,155,156,157,158,159,160', '82,84,86,87,88,89,90,91,92,93,94,95,96,142,154,152,150,155,156,157,158,159,160', '82,84,86,87,88,89,90,91,92,93,94,95,96,141,154,_,150,155,156,157,158,159,160', '82,84,86,87,88,89,_,_,_,_,_,_,_,140,154,152,150,155,156,157,158,159,160', '82,84,86,87,88,89,90,91,92,93,94,95,96,139,154,152,150,_,156,157,158,159,160', '82,84,86,87,88,89,90,91,92,93,94,95,96,138,154,152,150,155,156,157,_,159,160', '82,84,86,_,88,89,90,91,92,93,94,95,96,137,154,152,150,155,156,157,158,159,160', '66,_,70,71,72,73,74,75,76,77,78,79,80,136,154,152,149,155,156,157,158,159,160', '66,68,70,71,72,73,74,_,76,77,78,_,80,135,154,152,149,155,156,157,158,159,160', '66,68,70,71,72,73,74,75,76,77,78,79,80,134,154,152,149,155,156,_,158,159,160', '66,68,70,71,72,73,74,75,76,77,78,79,80,_,154,152,149,155,156,157,158,159,160', '66,68,70,71,72,73,74,75,76,77,78,79,_,132,154,152,149,155,156,157,158,159,160', '66,68,70,71,72,73,74,75,76,77,78,79,80,131,154,152,149,155,156,157,158,159,160', '66,68,70,71,72,73,_,75,76,77,78,79,80,130,154,152,149,155,156,157,158,159,160', '66,68,70,71,72,73,74,75,76,77,78,79,80,129,154,152,149,155,156,157,158,159,160', '50,_,54,55,56,57,_,_,60,61,62,63,64,128,154,_,148,155,156,157,158,159,160', '50,52,54,55,56,57,58,59,60,61,62,63,64,127,154,152,148,155,156,157,158,159,160', '50,52,54,55,56,57,58,59,60,61,62,63,64,126,154,152,148,155,156,157,158,159,160', '_,52,_,55,56,57,58,59,60,61,62,_,64,125,154,152,148,_,156,157,158,159,160', '50,52,54,55,56,57,58,59,60,61,62,63,64,124,154,152,148,155,156,157,158,159,160', '50,52,54,55,56,57,58,59,60,61,62,63,64,123,154,152,148,155,156,157,158,159,160', '50,52,54,55,56,57,58,59,60,61,62,63,64,122,154,152,148,155,156,157,158,159,160', '50,52,54,55,56,57,58,59,60,61,62,63,64,121,154,152,148,155,156,157,158,159,160', '34,36,38,39,40,41,42,43,44,45,46,47,48,120,153,151,147,155,156,157,158,159,160', '34,36,38,39,40,41,42,43,44,45,46,47,48,119,153,151,147,155,156,157,158,159,160', '34,36,38,39,40,41,42,43,44,45,46,47,48,118,153,151,147,155,156,157,158,159,160', '34,36,38,39,40,41,42,43,44,45,46,47,48,117,153,151,147,155,156,157,158,159,160', '34,36,38,39,40,41,42,43,44,45,46,47,48,116,153,151,147,155,156,157,158,159,160', '34,36,38,39,40,41,42,43,44,45,46,47,48,115,153,151,147,155,156,157,158,159,160', '34,36,38,39,40,41,42,43,44,45,46,47,48,114,153,151,147,155,156,157,158,159,160', '34,36,38,39,40,41,42,43,44,45,46,47,48,113,153,151,147,155,156,157,158,159,160', '18,20,22,23,24,25,26,27,28,29,30,31,32,112,153,151,146,155,156,157,158,159,160', '18,20,22,23,24,25,26,27,28,29,30,31,32,111,153,151,146,155,156,157,158,159,160', '18,20,22,23,24,25,26,27,28,29,30,31,32,110,153,151,146,155,156,157,158,159,160', '18,20,22,23,24,25,26,27,28,29,30,31,32,109,153,151,146,155,156,157,158,159,160', '18,20,22,23,24,25,26,27,28,29,30,31,32,108,153,151,146,155,156,157,158,159,160', '18,20,22,23,24,25,26,27,28,29,30,31,32,107,153,151,146,155,156,157,158,159,160', '18,20,22,23,24,25,26,27,28,29,30,31,32,106,153,151,146,155,156,157,158,159,160', '18,20,22,23,24,25,26,27,28,29,30,31,32,105,153,151,146,155,156,157,158,159,160', '2,4,6,7,8,9,10,11,12,13,14,15,16,104,153,151,145,154,156,157,158,159,160', '2,4,6,7,8,9,10,11,12,13,14,15,16,103,153,151,145,154,156,157,158,159,160', '2,4,6,7,8,9,10,11,12,13,14,15,16,102,153,151,145,154,156,157,158,159,160', '2,4,6,7,8,9,10,11,12,13,14,15,16,101,153,151,145,154,156,157,158,159,160', '2,4,6,7,8,9,10,11,12,13,14,15,16,100,153,151,145,154,156,157,158,159,160', '2,4,6,7,8,9,10,11,12,13,14,15,16,99,153,151,145,154,156,157,158,159,160', '2,4,6,7,8,9,10,11,12,13,14,15,16,98,153,151,155,154,156,157,158,159,160', '2,4,6,7,8,9,10,11,12,13,14,15,16,97,153,151,155,154,156,157,158,159,160']\n"
          ]
        }
      ]
    },
    {
      "cell_type": "markdown",
      "source": [
        "# Export\n",
        "\n",
        "Create a new .btf file and rewrite the data in the correct format"
      ],
      "metadata": {
        "id": "WHOrjBTAGrzd"
      }
    },
    {
      "cell_type": "code",
      "source": [
        "from numpy import typecodes\n",
        "#create a new file\n",
        "f = open(newname, \"x\")\n",
        "\n",
        "#write headings\n",
        "f.write('<?xml version=\"1.0\"?>')\n",
        "f.write(\"\\n\"'<BibType type=\"'+bibtype_value+'\" hardware=\"'+hardware_value+'\" version=\"1.0\">')\n",
        "\n",
        "#layout\n",
        "f.write(\"\\n\\t\"'<Layout>'.expandtabs(4))\n",
        "f.write(\"\\n\\t\"'<Rows>'+str(row_value)+'</Rows>'.expandtabs(8))\n",
        "f.write(\"\\n\\t\"'<Columns>'+str(col_value)+'</Columns>'.expandtabs(8))\n",
        "f.write(\"\\n\\t\"'<Edge>'+edge_value+'</Edge>'.expandtabs(8))\n",
        "f.write(\"\\n\\t\"'</Layout>'.expandtabs(4))\n",
        "\n",
        "#device name and pins\n",
        "f.write((\"\\n\"\"\\t\"+'<Device name=\"'+device_value+'\">').expandtabs(4))\n",
        "f.write(\"\\n\"\"\\t\"'<Pins total=\"'+str(len(types))+'\">'.expandtabs(8))\n",
        "\n",
        "for i in range(len(types)):\n",
        "  f.write((\"\\n\\t\"'<Pin share=\"'+str(types[i])+'\">'+str(pins[i])+'</Pin>').expandtabs(12))\n",
        "\n",
        "f.write(\"\\n\\t</Pins>\".expandtabs(8))\n",
        "f.write(\"\\n\\t</Device>\".expandtabs(4))\n",
        "\n",
        "#duts\n",
        "f.write(('\\n\\t<Duts total=\"'+str(len(duts))+'\">').expandtabs(4))\n",
        "\n",
        "for i in range(len(duts)):\n",
        "  f.write(('\\n\\t<Dut name=\"'+str(duts[i])+'\">'+str(numbers[i])+'</Dut>').expandtabs(8))\n",
        "\n",
        "f.write(\"\\n\\t</Duts>\".expandtabs(4))\n",
        "f.write(\"\\n</BibType>\")\n",
        "\n",
        "#close the file\n",
        "f.close()"
      ],
      "metadata": {
        "id": "0ZLNfd8mGtf1"
      },
      "execution_count": 247,
      "outputs": []
    },
    {
      "cell_type": "code",
      "source": [
        "#Check formatting\n",
        "f = open(newname, \"r\")\n",
        "print(f.read())"
      ],
      "metadata": {
        "colab": {
          "base_uri": "https://localhost:8080/"
        },
        "id": "P24HoAhVIisH",
        "outputId": "25113977-ad05-4958-e4ea-1b4abe1ccdf3"
      },
      "execution_count": 248,
      "outputs": [
        {
          "output_type": "stream",
          "name": "stdout",
          "text": [
            "<?xml version=\"1.0\"?>\n",
            "<BibType type=\"18\" hardware=\"ALSO FIX THIS\" version=\"1.0\">\n",
            "    <Layout>\n",
            "\t<Rows>6</Rows>\n",
            "\t<Columns>8</Columns>\n",
            "\t<Edge>Left</Edge>\n",
            "    </Layout>\n",
            "    <Device name=\"BOARD_1\">\n",
            "\t<Pins total=\"23\">\n",
            "            <Pin share=\"Partial\">SYS_CLK</Pin>\n",
            "            <Pin share=\"Partial\">RESETb</Pin>\n",
            "            <Pin share=\"Partial\">TEST_ENb</Pin>\n",
            "            <Pin share=\"Partial\">SCP0_CLK</Pin>\n",
            "            <Pin share=\"Partial\">SCP0_CSb</Pin>\n",
            "            <Pin share=\"Partial\">SCP0_MOSI</Pin>\n",
            "            <Pin share=\"Partial\">TM0</Pin>\n",
            "            <Pin share=\"Partial\">TM1</Pin>\n",
            "            <Pin share=\"Partial\">TM2</Pin>\n",
            "            <Pin share=\"Partial\">TM3</Pin>\n",
            "            <Pin share=\"Partial\">TM4</Pin>\n",
            "            <Pin share=\"Partial\">GPIO0</Pin>\n",
            "            <Pin share=\"Partial\">GPIO1</Pin>\n",
            "            <Pin share=\"Strict\">GPIO48</Pin>\n",
            "            <Pin share=\"Strict\">PS1_LDO_VMON</Pin>\n",
            "            <Pin share=\"Strict\">PS2_LDO_VMON</Pin>\n",
            "            <Pin share=\"Strict\">PS3_LDO_VMON</Pin>\n",
            "            <Pin share=\"Strict\">PS1_VMON</Pin>\n",
            "            <Pin share=\"Strict\">PS2_VMON</Pin>\n",
            "            <Pin share=\"Strict\">PS3_VMON</Pin>\n",
            "            <Pin share=\"Strict\">PS1_IMON</Pin>\n",
            "            <Pin share=\"Strict\">PS2_IMON</Pin>\n",
            "            <Pin share=\"Strict\">PS3_IMON</Pin>\n",
            "        </Pins>\n",
            "    </Device>\n",
            "    <Duts total=\"48\">\n",
            "        <Dut name=\"68\">82,84,86,87,88,89,_,91,92,93,94,95,96,144,154,152,150,155,156,157,158,159,160</Dut>\n",
            "        <Dut name=\"67\">82,84,86,87,88,89,90,91,92,93,94,95,96,143,154,152,150,155,156,157,158,159,160</Dut>\n",
            "        <Dut name=\"66\">82,84,86,87,88,89,90,91,92,93,94,95,96,142,154,152,150,155,156,157,158,159,160</Dut>\n",
            "        <Dut name=\"65\">82,84,86,87,88,89,90,91,92,93,94,95,96,141,154,_,150,155,156,157,158,159,160</Dut>\n",
            "        <Dut name=\"64\">82,84,86,87,88,89,_,_,_,_,_,_,_,140,154,152,150,155,156,157,158,159,160</Dut>\n",
            "        <Dut name=\"63\">82,84,86,87,88,89,90,91,92,93,94,95,96,139,154,152,150,_,156,157,158,159,160</Dut>\n",
            "        <Dut name=\"62\">82,84,86,87,88,89,90,91,92,93,94,95,96,138,154,152,150,155,156,157,_,159,160</Dut>\n",
            "        <Dut name=\"61\">82,84,86,_,88,89,90,91,92,93,94,95,96,137,154,152,150,155,156,157,158,159,160</Dut>\n",
            "        <Dut name=\"58\">66,_,70,71,72,73,74,75,76,77,78,79,80,136,154,152,149,155,156,157,158,159,160</Dut>\n",
            "        <Dut name=\"57\">66,68,70,71,72,73,74,_,76,77,78,_,80,135,154,152,149,155,156,157,158,159,160</Dut>\n",
            "        <Dut name=\"56\">66,68,70,71,72,73,74,75,76,77,78,79,80,134,154,152,149,155,156,_,158,159,160</Dut>\n",
            "        <Dut name=\"55\">66,68,70,71,72,73,74,75,76,77,78,79,80,_,154,152,149,155,156,157,158,159,160</Dut>\n",
            "        <Dut name=\"54\">66,68,70,71,72,73,74,75,76,77,78,79,_,132,154,152,149,155,156,157,158,159,160</Dut>\n",
            "        <Dut name=\"53\">66,68,70,71,72,73,74,75,76,77,78,79,80,131,154,152,149,155,156,157,158,159,160</Dut>\n",
            "        <Dut name=\"52\">66,68,70,71,72,73,_,75,76,77,78,79,80,130,154,152,149,155,156,157,158,159,160</Dut>\n",
            "        <Dut name=\"51\">66,68,70,71,72,73,74,75,76,77,78,79,80,129,154,152,149,155,156,157,158,159,160</Dut>\n",
            "        <Dut name=\"48\">50,_,54,55,56,57,_,_,60,61,62,63,64,128,154,_,148,155,156,157,158,159,160</Dut>\n",
            "        <Dut name=\"47\">50,52,54,55,56,57,58,59,60,61,62,63,64,127,154,152,148,155,156,157,158,159,160</Dut>\n",
            "        <Dut name=\"46\">50,52,54,55,56,57,58,59,60,61,62,63,64,126,154,152,148,155,156,157,158,159,160</Dut>\n",
            "        <Dut name=\"45\">_,52,_,55,56,57,58,59,60,61,62,_,64,125,154,152,148,_,156,157,158,159,160</Dut>\n",
            "        <Dut name=\"44\">50,52,54,55,56,57,58,59,60,61,62,63,64,124,154,152,148,155,156,157,158,159,160</Dut>\n",
            "        <Dut name=\"43\">50,52,54,55,56,57,58,59,60,61,62,63,64,123,154,152,148,155,156,157,158,159,160</Dut>\n",
            "        <Dut name=\"42\">50,52,54,55,56,57,58,59,60,61,62,63,64,122,154,152,148,155,156,157,158,159,160</Dut>\n",
            "        <Dut name=\"41\">50,52,54,55,56,57,58,59,60,61,62,63,64,121,154,152,148,155,156,157,158,159,160</Dut>\n",
            "        <Dut name=\"38\">34,36,38,39,40,41,42,43,44,45,46,47,48,120,153,151,147,155,156,157,158,159,160</Dut>\n",
            "        <Dut name=\"37\">34,36,38,39,40,41,42,43,44,45,46,47,48,119,153,151,147,155,156,157,158,159,160</Dut>\n",
            "        <Dut name=\"36\">34,36,38,39,40,41,42,43,44,45,46,47,48,118,153,151,147,155,156,157,158,159,160</Dut>\n",
            "        <Dut name=\"35\">34,36,38,39,40,41,42,43,44,45,46,47,48,117,153,151,147,155,156,157,158,159,160</Dut>\n",
            "        <Dut name=\"34\">34,36,38,39,40,41,42,43,44,45,46,47,48,116,153,151,147,155,156,157,158,159,160</Dut>\n",
            "        <Dut name=\"33\">34,36,38,39,40,41,42,43,44,45,46,47,48,115,153,151,147,155,156,157,158,159,160</Dut>\n",
            "        <Dut name=\"32\">34,36,38,39,40,41,42,43,44,45,46,47,48,114,153,151,147,155,156,157,158,159,160</Dut>\n",
            "        <Dut name=\"31\">34,36,38,39,40,41,42,43,44,45,46,47,48,113,153,151,147,155,156,157,158,159,160</Dut>\n",
            "        <Dut name=\"28\">18,20,22,23,24,25,26,27,28,29,30,31,32,112,153,151,146,155,156,157,158,159,160</Dut>\n",
            "        <Dut name=\"27\">18,20,22,23,24,25,26,27,28,29,30,31,32,111,153,151,146,155,156,157,158,159,160</Dut>\n",
            "        <Dut name=\"26\">18,20,22,23,24,25,26,27,28,29,30,31,32,110,153,151,146,155,156,157,158,159,160</Dut>\n",
            "        <Dut name=\"25\">18,20,22,23,24,25,26,27,28,29,30,31,32,109,153,151,146,155,156,157,158,159,160</Dut>\n",
            "        <Dut name=\"24\">18,20,22,23,24,25,26,27,28,29,30,31,32,108,153,151,146,155,156,157,158,159,160</Dut>\n",
            "        <Dut name=\"23\">18,20,22,23,24,25,26,27,28,29,30,31,32,107,153,151,146,155,156,157,158,159,160</Dut>\n",
            "        <Dut name=\"22\">18,20,22,23,24,25,26,27,28,29,30,31,32,106,153,151,146,155,156,157,158,159,160</Dut>\n",
            "        <Dut name=\"21\">18,20,22,23,24,25,26,27,28,29,30,31,32,105,153,151,146,155,156,157,158,159,160</Dut>\n",
            "        <Dut name=\"18\">2,4,6,7,8,9,10,11,12,13,14,15,16,104,153,151,145,154,156,157,158,159,160</Dut>\n",
            "        <Dut name=\"17\">2,4,6,7,8,9,10,11,12,13,14,15,16,103,153,151,145,154,156,157,158,159,160</Dut>\n",
            "        <Dut name=\"16\">2,4,6,7,8,9,10,11,12,13,14,15,16,102,153,151,145,154,156,157,158,159,160</Dut>\n",
            "        <Dut name=\"15\">2,4,6,7,8,9,10,11,12,13,14,15,16,101,153,151,145,154,156,157,158,159,160</Dut>\n",
            "        <Dut name=\"14\">2,4,6,7,8,9,10,11,12,13,14,15,16,100,153,151,145,154,156,157,158,159,160</Dut>\n",
            "        <Dut name=\"13\">2,4,6,7,8,9,10,11,12,13,14,15,16,99,153,151,145,154,156,157,158,159,160</Dut>\n",
            "        <Dut name=\"12\">2,4,6,7,8,9,10,11,12,13,14,15,16,98,153,151,155,154,156,157,158,159,160</Dut>\n",
            "        <Dut name=\"11\">2,4,6,7,8,9,10,11,12,13,14,15,16,97,153,151,155,154,156,157,158,159,160</Dut>\n",
            "    </Duts>\n",
            "</BibType>\n"
          ]
        }
      ]
    }
  ]
}